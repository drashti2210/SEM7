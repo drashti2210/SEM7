{
 "cells": [
  {
   "cell_type": "code",
   "execution_count": 1,
   "metadata": {
    "colab": {},
    "colab_type": "code",
    "executionInfo": {
     "elapsed": 3304,
     "status": "ok",
     "timestamp": 1596979517525,
     "user": {
      "displayName": "Hariom Pandya",
      "photoUrl": "https://lh3.googleusercontent.com/a-/AOh14Gg8d7lqNqBxgfXVdhraKxXVYdefhGJQ6fR34vxZkw=s64",
      "userId": "14308869011554137018"
     },
     "user_tz": -330
    },
    "id": "xvgNUMckU7Na"
   },
   "outputs": [],
   "source": [
    "from __future__ import absolute_import, division, print_function\n",
    "\n",
    "import tensorflow as tf\n",
    "\n",
    "import numpy as np"
   ]
  },
  {
   "cell_type": "markdown",
   "metadata": {
    "colab_type": "text",
    "id": "1PI1PqciVVT3"
   },
   "source": [
    "MNIST data set. MNIST data is a collection of hand-written digits that contains 60,000 examples for training and 10,000 examples for testing. The digits have been size-normalized and centered in a fixed-size image (28x28 pixels) with values from 0 to 255. \n",
    "\n",
    "Next for each image we will:\n",
    "\n",
    "1) converted it to float32\n",
    "\n",
    "2) normalized to [0, 1]\n",
    "\n",
    "3) flattened to a 1-D array of 784 features (28*28).\n",
    "\n"
   ]
  },
  {
   "cell_type": "markdown",
   "metadata": {
    "colab_type": "text",
    "id": "li4iPhZvWG-1"
   },
   "source": [
    "#Step 2: Loading and Preparing the MNIST Data Set"
   ]
  },
  {
   "cell_type": "code",
   "execution_count": 2,
   "metadata": {
    "colab": {},
    "colab_type": "code",
    "executionInfo": {
     "elapsed": 3296,
     "status": "ok",
     "timestamp": 1596979517543,
     "user": {
      "displayName": "Hariom Pandya",
      "photoUrl": "https://lh3.googleusercontent.com/a-/AOh14Gg8d7lqNqBxgfXVdhraKxXVYdefhGJQ6fR34vxZkw=s64",
      "userId": "14308869011554137018"
     },
     "user_tz": -330
    },
    "id": "2L3GHvPxVfKH"
   },
   "outputs": [],
   "source": [
    "from tensorflow.keras.datasets import mnist\n",
    "\n",
    "(x_train, y_train), (x_test, y_test) = mnist.load_data()\n",
    "\n",
    "# Convert to float32.\n",
    "\n",
    "x_train, x_test = np.array(x_train, np.float32), np.array(x_test, np.float32)\n",
    "\n",
    "# Flatten images to 1-D vector of 784 features (28*28).\n",
    "num_features=784\n",
    "\n",
    "x_train, x_test = x_train.reshape([-1, num_features]), x_test.reshape([-1, num_features])\n",
    "\n",
    "# Normalize images value from [0, 255] to [0, 1].\n",
    "\n",
    "x_train, x_test = x_train / 255., x_test / 255."
   ]
  },
  {
   "cell_type": "markdown",
   "metadata": {
    "colab_type": "text",
    "id": "pRmiTr7hV43k"
   },
   "source": [
    "#Step 3: Setting Up Hyperparameters and Data Set Parameters\n",
    "\n",
    "Initialize the model parameters. \n",
    "\n",
    "num_classes denotes the number of outputs, which is 10, as we have digits from 0 to 9 in the data set. \n",
    "\n",
    "num_features defines the number of input parameters, and we store 784 since each image contains 784 pixels."
   ]
  },
  {
   "cell_type": "code",
   "execution_count": 3,
   "metadata": {
    "colab": {},
    "colab_type": "code",
    "executionInfo": {
     "elapsed": 3288,
     "status": "ok",
     "timestamp": 1596979517548,
     "user": {
      "displayName": "Hariom Pandya",
      "photoUrl": "https://lh3.googleusercontent.com/a-/AOh14Gg8d7lqNqBxgfXVdhraKxXVYdefhGJQ6fR34vxZkw=s64",
      "userId": "14308869011554137018"
     },
     "user_tz": -330
    },
    "id": "l5wqQDxJWDi1"
   },
   "outputs": [],
   "source": [
    "# MNIST dataset parameters.\n",
    "\n",
    "num_classes = 10 # 0 to 9 digits\n",
    "\n",
    "num_features = 784 # 28*28\n",
    "\n",
    "# Training parameters.\n",
    "\n",
    "learning_rate = 0.01\n",
    "\n",
    "training_steps = 1000\n",
    "\n",
    "batch_size = 256\n",
    "\n",
    "display_step = 50"
   ]
  },
  {
   "cell_type": "markdown",
   "metadata": {
    "colab_type": "text",
    "id": "iuEixbb8WX3f"
   },
   "source": [
    "#Step 4: Shuffling and Batching the Data\n",
    "\n",
    "We need to shuffle and batch the data before we start the actual training to avoid the model from getting biased by the data. This will allow our data to be more random and helps our model to gain higher accuracies with the test data.\n",
    "\n",
    "With the help of tf.data.Dataset.from_tensor_slices, we can get the slices of an array in the form of objects. \n",
    "\n",
    "The function shuffle(5000) randomizes the order of the data set’s examples. \n",
    "\n",
    "Here, 5000 denotes the variable shuffle_buffer, which tells the model to pick a sample randomly from 1 to 5000 samples. \n",
    "\n",
    "After that, there are only 4999 samples left in the buffer, so the sample 5001 gets added to the buffer. "
   ]
  },
  {
   "cell_type": "code",
   "execution_count": 4,
   "metadata": {
    "colab": {},
    "colab_type": "code",
    "executionInfo": {
     "elapsed": 3280,
     "status": "ok",
     "timestamp": 1596979517554,
     "user": {
      "displayName": "Hariom Pandya",
      "photoUrl": "https://lh3.googleusercontent.com/a-/AOh14Gg8d7lqNqBxgfXVdhraKxXVYdefhGJQ6fR34vxZkw=s64",
      "userId": "14308869011554137018"
     },
     "user_tz": -330
    },
    "id": "_oj9bVJqWhDv"
   },
   "outputs": [],
   "source": [
    "# Use tf.data API to shuffle and batch data.\n",
    "\n",
    "train_data=tf.data.Dataset.from_tensor_slices((x_train,y_train))\n",
    "\n",
    "train_data=train_data.repeat().shuffle(5000).batch(batch_size).prefetch(1)"
   ]
  },
  {
   "cell_type": "markdown",
   "metadata": {
    "colab_type": "text",
    "id": "6vXwmbU7WpZf"
   },
   "source": [
    "#Step 5: Initializing Weights and Biases\n",
    "\n",
    "We now initialize the weights vector and bias vector with ones and zeros."
   ]
  },
  {
   "cell_type": "code",
   "execution_count": 5,
   "metadata": {
    "colab": {},
    "colab_type": "code",
    "executionInfo": {
     "elapsed": 3275,
     "status": "ok",
     "timestamp": 1596979517563,
     "user": {
      "displayName": "Hariom Pandya",
      "photoUrl": "https://lh3.googleusercontent.com/a-/AOh14Gg8d7lqNqBxgfXVdhraKxXVYdefhGJQ6fR34vxZkw=s64",
      "userId": "14308869011554137018"
     },
     "user_tz": -330
    },
    "id": "guK098RvWrek"
   },
   "outputs": [],
   "source": [
    "# Weight of shape [784, 10], the 28*28 image features, and a total number of classes.\n",
    "\n",
    "W = tf.Variable(tf.ones([num_features, num_classes]), name=\"weight\")\n",
    "\n",
    "# Bias of shape [10], the total number of classes.\n",
    "\n",
    "b = tf.Variable(tf.zeros([num_classes]), name=\"bias\")"
   ]
  },
  {
   "cell_type": "markdown",
   "metadata": {
    "colab_type": "text",
    "id": "zixB5WB1WzpA"
   },
   "source": [
    "#Step 6: Defining Logistic Regression and Cost Function\n",
    "\n",
    "We define the logistic_regression function below, which converts the inputs into a probability distribution proportional to the exponents of the inputs using the softmax function. The softmax function, which is implemented using the function tf.nn.softmax, also makes sure that the sum of all the inputs equals one."
   ]
  },
  {
   "cell_type": "code",
   "execution_count": 6,
   "metadata": {
    "colab": {},
    "colab_type": "code",
    "executionInfo": {
     "elapsed": 4094,
     "status": "ok",
     "timestamp": 1596979518393,
     "user": {
      "displayName": "Hariom Pandya",
      "photoUrl": "https://lh3.googleusercontent.com/a-/AOh14Gg8d7lqNqBxgfXVdhraKxXVYdefhGJQ6fR34vxZkw=s64",
      "userId": "14308869011554137018"
     },
     "user_tz": -330
    },
    "id": "oJEBWTjDW24p"
   },
   "outputs": [],
   "source": [
    "# Logistic regression (Wx + b).\n",
    "\n",
    "def logistic_regression(x):\n",
    "\n",
    "    # Apply softmax to normalize the logits to a probability distribution.\n",
    "\n",
    "    return tf.nn.softmax(tf.matmul(x, W) + b)\n",
    "\n",
    "# Cross-Entropy loss function.\n",
    "\n",
    "def cross_entropy(y_pred, y_true):\n",
    "\n",
    "    # Encode label to a one hot vector.\n",
    "\n",
    "    y_true = tf.one_hot(y_true, depth=num_classes)\n",
    "\n",
    "    # Clip prediction values to avoid log(0) error.\n",
    "\n",
    "    y_pred = tf.clip_by_value(y_pred, 1e-9, 1.)\n",
    "\n",
    "    # Compute cross-entropy.\n",
    "\n",
    "    return tf.reduce_mean(-tf.reduce_sum(y_true * tf.math.log(y_pred)))"
   ]
  },
  {
   "cell_type": "markdown",
   "metadata": {
    "colab_type": "text",
    "id": "FhOVijJOW_mu"
   },
   "source": [
    "#Step 7: Defining Optimizers and Accuracy Metrics\n",
    "When we compute the output, it gives us the probability of the given data to fit a particular class of output. \n",
    "\n",
    "We consider the correct prediction as to the class having the highest probability. \n",
    "\n",
    "We compute this using the function tf.argmax. \n",
    "\n",
    "We also define the stochastic gradient descent as the optimizer from several optimizers present in TensorFlow. We do this using the function tf.optimizers.SGD. \n",
    "\n",
    "This function takes in the learning rate as its input, which defines how fast the model should reach its minimum loss or gain the highest accuracy."
   ]
  },
  {
   "cell_type": "code",
   "execution_count": 7,
   "metadata": {
    "colab": {},
    "colab_type": "code",
    "executionInfo": {
     "elapsed": 4081,
     "status": "ok",
     "timestamp": 1596979518395,
     "user": {
      "displayName": "Hariom Pandya",
      "photoUrl": "https://lh3.googleusercontent.com/a-/AOh14Gg8d7lqNqBxgfXVdhraKxXVYdefhGJQ6fR34vxZkw=s64",
      "userId": "14308869011554137018"
     },
     "user_tz": -330
    },
    "id": "Updp5rlyXGf9"
   },
   "outputs": [],
   "source": [
    "# Accuracy metric.\n",
    "\n",
    "def accuracy(y_pred, y_true):\n",
    "\n",
    "  # Predicted class is the index of the highest score in prediction vector (i.e. argmax).\n",
    "\n",
    "  correct_prediction = tf.equal(tf.argmax(y_pred, 1), tf.cast(y_true, tf.int64))\n",
    "\n",
    "  return tf.reduce_mean(tf.cast(correct_prediction, tf.float32))\n",
    "\n"
   ]
  },
  {
   "cell_type": "markdown",
   "metadata": {
    "colab_type": "text",
    "id": "5Kh8AXIeXJ2Q"
   },
   "source": [
    "#Step 8: Optimization Process and Updating Weights and Biases\n",
    "Now we define the run_optimization() method where we update the weights of our model. We calculate the predictions using the logistic_regression(x) method by taking the inputs and find out the loss generated by comparing the predicted value and the original value present in the data set. Next, we compute the gradients using and update the weights of the model with our stochastic gradient descent optimizer."
   ]
  },
  {
   "cell_type": "code",
   "execution_count": 8,
   "metadata": {
    "colab": {},
    "colab_type": "code",
    "executionInfo": {
     "elapsed": 4072,
     "status": "ok",
     "timestamp": 1596979518399,
     "user": {
      "displayName": "Hariom Pandya",
      "photoUrl": "https://lh3.googleusercontent.com/a-/AOh14Gg8d7lqNqBxgfXVdhraKxXVYdefhGJQ6fR34vxZkw=s64",
      "userId": "14308869011554137018"
     },
     "user_tz": -330
    },
    "id": "zh9qjQZNXSp0"
   },
   "outputs": [],
   "source": [
    "# Optimization process. \n",
    "\n",
    "def run_optimization(x, y):\n",
    "\n",
    "# Wrap computation inside a GradientTape for automatic differentiation.\n",
    "\n",
    "    with tf.GradientTape() as g:\n",
    "\n",
    "        pred = logistic_regression(x)\n",
    "\n",
    "        loss = cross_entropy(pred, y)\n",
    "\n",
    "    # Compute gradients.\n",
    "\n",
    "    gradients = g.gradient(loss, [W, b])\n",
    "\n",
    "\n",
    "    # Stochastic gradient descent optimizer.\n",
    "\n",
    "    optimizer = tf.optimizers.SGD(learning_rate)\n",
    "    \n",
    "    # Update W and b following gradients.\n",
    "\n",
    "    optimizer.apply_gradients(zip(gradients, [W, b]))"
   ]
  },
  {
   "cell_type": "markdown",
   "metadata": {
    "colab_type": "text",
    "id": "fLAj8042XWT9"
   },
   "source": [
    "#Step 9: The Training Loop"
   ]
  },
  {
   "cell_type": "code",
   "execution_count": 9,
   "metadata": {
    "colab": {
     "base_uri": "https://localhost:8080/",
     "height": 364
    },
    "colab_type": "code",
    "executionInfo": {
     "elapsed": 10537,
     "status": "ok",
     "timestamp": 1596979524883,
     "user": {
      "displayName": "Hariom Pandya",
      "photoUrl": "https://lh3.googleusercontent.com/a-/AOh14Gg8d7lqNqBxgfXVdhraKxXVYdefhGJQ6fR34vxZkw=s64",
      "userId": "14308869011554137018"
     },
     "user_tz": -330
    },
    "id": "pJ2u05nXXZvI",
    "outputId": "20216582-9fb9-4c0e-eb16-3b0e6f319d77"
   },
   "outputs": [
    {
     "name": "stdout",
     "output_type": "stream",
     "text": [
      "step: 50, loss: 1116.530518, accuracy: 0.765625\n",
      "step: 100, loss: 1192.633911, accuracy: 0.730469\n",
      "step: 150, loss: 1111.806274, accuracy: 0.738281\n",
      "step: 200, loss: 689.374573, accuracy: 0.816406\n",
      "step: 250, loss: 86.493790, accuracy: 0.906250\n",
      "step: 300, loss: 66.897751, accuracy: 0.937500\n",
      "step: 350, loss: 390.917358, accuracy: 0.835938\n",
      "step: 400, loss: 77.182465, accuracy: 0.929688\n",
      "step: 450, loss: 62.726913, accuracy: 0.945312\n",
      "step: 500, loss: 57.896267, accuracy: 0.914062\n",
      "step: 550, loss: 67.549255, accuracy: 0.937500\n",
      "step: 600, loss: 108.732643, accuracy: 0.886719\n",
      "step: 650, loss: 83.292740, accuracy: 0.890625\n",
      "step: 700, loss: 40.146469, accuracy: 0.945312\n",
      "step: 750, loss: 72.084602, accuracy: 0.933594\n",
      "step: 800, loss: 87.616325, accuracy: 0.882812\n",
      "step: 850, loss: 111.149956, accuracy: 0.902344\n",
      "step: 900, loss: 56.936222, accuracy: 0.933594\n",
      "step: 950, loss: 53.121674, accuracy: 0.937500\n",
      "step: 1000, loss: 103.650375, accuracy: 0.910156\n"
     ]
    }
   ],
   "source": [
    "# Run training for the given number of steps.\n",
    "\n",
    "for step, (batch_x, batch_y) in enumerate(train_data.take(training_steps), 1):\n",
    "\n",
    "    # Run the optimization to update W and b values.\n",
    "\n",
    "    run_optimization(batch_x, batch_y)\n",
    "\n",
    "    \n",
    "\n",
    "    if step % display_step == 0:\n",
    "\n",
    "        pred = logistic_regression(batch_x)\n",
    "\n",
    "        loss = cross_entropy(pred, batch_y)\n",
    "\n",
    "        acc = accuracy(pred, batch_y)\n",
    "\n",
    "        print(\"step: %i, loss: %f, accuracy: %f\" % (step, loss, acc))"
   ]
  },
  {
   "cell_type": "markdown",
   "metadata": {
    "colab_type": "text",
    "id": "lGXSf6nAX0yF"
   },
   "source": [
    "#Step 10: Testing Model Accuracy Using the Test Data\n",
    "\n",
    "Finally, we check the model accuracy by sending the test data set into our model and compute the accuracy using the accuracy function that we defined earlier."
   ]
  },
  {
   "cell_type": "code",
   "execution_count": 10,
   "metadata": {
    "colab": {
     "base_uri": "https://localhost:8080/",
     "height": 34
    },
    "colab_type": "code",
    "executionInfo": {
     "elapsed": 10528,
     "status": "ok",
     "timestamp": 1596979524892,
     "user": {
      "displayName": "Hariom Pandya",
      "photoUrl": "https://lh3.googleusercontent.com/a-/AOh14Gg8d7lqNqBxgfXVdhraKxXVYdefhGJQ6fR34vxZkw=s64",
      "userId": "14308869011554137018"
     },
     "user_tz": -330
    },
    "id": "jX_HafsGX4S8",
    "outputId": "f318737e-0847-49cb-bba8-d5731ea07bbe"
   },
   "outputs": [
    {
     "name": "stdout",
     "output_type": "stream",
     "text": [
      "Test Accuracy: 0.915900\n"
     ]
    }
   ],
   "source": [
    "# Test model on validation set.\n",
    "\n",
    "pred = logistic_regression(x_test)\n",
    "\n",
    "print(\"Test Accuracy: %f\" % accuracy(pred, y_test))"
   ]
  }
 ],
 "metadata": {
  "colab": {
   "authorship_tag": "ABX9TyM29FFGsqi7lePcr1kHHzAD",
   "name": "LogisticRegression-Tensorflow.ipynb",
   "provenance": []
  },
  "kernelspec": {
   "display_name": "Python 3",
   "language": "python",
   "name": "python3"
  },
  "language_info": {
   "codemirror_mode": {
    "name": "ipython",
    "version": 3
   },
   "file_extension": ".py",
   "mimetype": "text/x-python",
   "name": "python",
   "nbconvert_exporter": "python",
   "pygments_lexer": "ipython3",
   "version": "3.7.8"
  }
 },
 "nbformat": 4,
 "nbformat_minor": 1
}
