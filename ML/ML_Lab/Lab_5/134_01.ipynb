{
 "cells": [
  {
   "cell_type": "markdown",
   "metadata": {},
   "source": [
    "# LAB 5 Task"
   ]
  },
  {
   "cell_type": "markdown",
   "metadata": {},
   "source": [
    "# linear regression"
   ]
  },
  {
   "cell_type": "code",
   "execution_count": 2,
   "metadata": {},
   "outputs": [],
   "source": [
    "import numpy as np"
   ]
  },
  {
   "cell_type": "code",
   "execution_count": 3,
   "metadata": {},
   "outputs": [],
   "source": [
    "# inputs\n",
    "inputs = np.array([[73, 67, 43], \n",
    "                   [91, 88, 64], \n",
    "                   [87, 134, 58], \n",
    "                   [102, 43, 37], \n",
    "                   [69, 96, 70]], dtype='float32')"
   ]
  },
  {
   "cell_type": "code",
   "execution_count": 4,
   "metadata": {},
   "outputs": [],
   "source": [
    "# target\n",
    "targets = np.array([[56], \n",
    "                    [81], \n",
    "                    [119], \n",
    "                    [22], \n",
    "                    [103]], dtype='float32')"
   ]
  },
  {
   "cell_type": "code",
   "execution_count": 5,
   "metadata": {},
   "outputs": [
    {
     "name": "stdout",
     "output_type": "stream",
     "text": [
      "theta: [[-0.46308356 -0.71356647 -1.30446745]]\n"
     ]
    }
   ],
   "source": [
    "# initializing theta(weight) with random value\n",
    "theta = np.random.randn(1,inputs.shape[1])\n",
    "print(\"theta:\",theta)"
   ]
  },
  {
   "cell_type": "code",
   "execution_count": 6,
   "metadata": {},
   "outputs": [
    {
     "name": "stdout",
     "output_type": "stream",
     "text": [
      "Theta0(bias): [[1.16649716]]\n"
     ]
    }
   ],
   "source": [
    "# initializing bias\n",
    "theta0 = np.random.randn(1,1)\n",
    "print(\"Theta0(bias):\",theta0)"
   ]
  },
  {
   "cell_type": "code",
   "execution_count": 7,
   "metadata": {},
   "outputs": [],
   "source": [
    "def linearRegressionModel(x):\n",
    "    return x @ theta.T + theta0"
   ]
  },
  {
   "cell_type": "code",
   "execution_count": 8,
   "metadata": {},
   "outputs": [],
   "source": [
    "def mse(pred,tar):\n",
    "    diff=pred-tar\n",
    "    j=np.sum(diff*diff)\n",
    "    j=j/pred.shape[0]\n",
    "    return j"
   ]
  },
  {
   "cell_type": "code",
   "execution_count": 9,
   "metadata": {},
   "outputs": [],
   "source": [
    "def grad(x):\n",
    "    h = linearRegressionModel(x[:,1:])\n",
    "    diff = h - targets\n",
    "    diff_of_j=np.sum(diff * x,axis = 0)/x.shape[0]\n",
    "    return diff_of_j"
   ]
  },
  {
   "cell_type": "code",
   "execution_count": 10,
   "metadata": {},
   "outputs": [],
   "source": [
    "predicted = linearRegressionModel(inputs)"
   ]
  },
  {
   "cell_type": "code",
   "execution_count": 11,
   "metadata": {},
   "outputs": [
    {
     "name": "stdout",
     "output_type": "stream",
     "text": [
      "predicted:\n",
      " [[-136.5396566 ]\n",
      " [-187.25387302]\n",
      " [-210.39879189]\n",
      " [-125.0166797 ]\n",
      " [-190.60137125]]\n"
     ]
    }
   ],
   "source": [
    "print(\"predicted:\\n\",predicted)"
   ]
  },
  {
   "cell_type": "code",
   "execution_count": 12,
   "metadata": {},
   "outputs": [
    {
     "name": "stdout",
     "output_type": "stream",
     "text": [
      "target:\n",
      " [[ 56.]\n",
      " [ 81.]\n",
      " [119.]\n",
      " [ 22.]\n",
      " [103.]]\n"
     ]
    }
   ],
   "source": [
    "print(\"target:\\n\",targets)"
   ]
  },
  {
   "cell_type": "code",
   "execution_count": 13,
   "metadata": {},
   "outputs": [
    {
     "name": "stdout",
     "output_type": "stream",
     "text": [
      "loss:  65070.178633082796\n"
     ]
    }
   ],
   "source": [
    "loss=mse(predicted,targets)\n",
    "print(\"loss: \",loss)"
   ]
  },
  {
   "cell_type": "code",
   "execution_count": 14,
   "metadata": {},
   "outputs": [],
   "source": [
    "# creating new input set for calculating d/d@(J) for theta0 - thetad\n",
    "x0=np.zeros((inputs.shape[0],1),dtype='float32')\n",
    "a=np.concatenate((x0,inputs),axis=1)"
   ]
  },
  {
   "cell_type": "code",
   "execution_count": 15,
   "metadata": {},
   "outputs": [],
   "source": [
    "# updating all theta values\n",
    "gradient=grad(a)\n",
    "theta=theta-gradient[1:]*1e-5\n",
    "theta0=theta0-gradient[0]*1e-5"
   ]
  },
  {
   "cell_type": "code",
   "execution_count": 16,
   "metadata": {},
   "outputs": [
    {
     "name": "stdout",
     "output_type": "stream",
     "text": [
      "theta: [[-0.25832678 -0.4832597  -1.16337886]]\n",
      "theta0: [[1.16649716]]\n"
     ]
    }
   ],
   "source": [
    "print(\"theta:\",theta)\n",
    "print(\"theta0:\",theta0)"
   ]
  },
  {
   "cell_type": "code",
   "execution_count": 17,
   "metadata": {},
   "outputs": [],
   "source": [
    "prediction=linearRegressionModel(inputs)"
   ]
  },
  {
   "cell_type": "code",
   "execution_count": 18,
   "metadata": {},
   "outputs": [
    {
     "name": "stdout",
     "output_type": "stream",
     "text": [
      "prediction:\n",
      " [[-100.09504889]\n",
      " [-139.32434073]\n",
      " [-153.54070686]\n",
      " [ -89.00801949]\n",
      " [-144.48750233]]\n"
     ]
    }
   ],
   "source": [
    "print(\"prediction:\\n\",prediction)"
   ]
  },
  {
   "cell_type": "code",
   "execution_count": 19,
   "metadata": {},
   "outputs": [
    {
     "name": "stdout",
     "output_type": "stream",
     "text": [
      "target:\n",
      " [[ 56.]\n",
      " [ 81.]\n",
      " [119.]\n",
      " [ 22.]\n",
      " [103.]]\n"
     ]
    }
   ],
   "source": [
    "print(\"target:\\n\",targets)"
   ]
  },
  {
   "cell_type": "code",
   "execution_count": 20,
   "metadata": {},
   "outputs": [
    {
     "name": "stdout",
     "output_type": "stream",
     "text": [
      "loss: 44151.9521007608\n"
     ]
    }
   ],
   "source": [
    "loss=mse(prediction,targets)\n",
    "print(\"loss:\",loss)"
   ]
  },
  {
   "cell_type": "code",
   "execution_count": 21,
   "metadata": {},
   "outputs": [],
   "source": [
    "for i in range(0,10000):\n",
    "    x0=np.ones((inputs.shape[0],1),dtype='float32')\n",
    "    a=np.concatenate((x0,inputs),axis=1)\n",
    "    gradient=grad(a)\n",
    "    theta=theta-gradient[1:]*1e-5\n",
    "    theta0=theta0-gradient[0]*1e-5\n",
    "    prediction=linearRegressionModel(inputs)\n",
    "    loss=mse(prediction,targets)"
   ]
  },
  {
   "cell_type": "code",
   "execution_count": 22,
   "metadata": {},
   "outputs": [
    {
     "name": "stdout",
     "output_type": "stream",
     "text": [
      "prediction:\n",
      " [[ 57.36182347]\n",
      " [ 82.08310784]\n",
      " [118.66211444]\n",
      " [ 21.05704079]\n",
      " [101.95089931]]\n"
     ]
    }
   ],
   "source": [
    "print(\"prediction:\\n\",prediction)"
   ]
  },
  {
   "cell_type": "code",
   "execution_count": 23,
   "metadata": {},
   "outputs": [
    {
     "name": "stdout",
     "output_type": "stream",
     "text": [
      "target:\n",
      " [[ 56.]\n",
      " [ 81.]\n",
      " [119.]\n",
      " [ 22.]\n",
      " [103.]]\n"
     ]
    }
   ],
   "source": [
    "print(\"target:\\n\",targets)"
   ]
  },
  {
   "cell_type": "code",
   "execution_count": 24,
   "metadata": {},
   "outputs": [
    {
     "name": "stdout",
     "output_type": "stream",
     "text": [
      "loss: 1.0263273476377643\n"
     ]
    }
   ],
   "source": [
    "loss=mse(prediction,targets)\n",
    "print(\"loss:\",loss)"
   ]
  }
 ],
 "metadata": {
  "kernelspec": {
   "display_name": "Python 3",
   "language": "python",
   "name": "python3"
  },
  "language_info": {
   "codemirror_mode": {
    "name": "ipython",
    "version": 3
   },
   "file_extension": ".py",
   "mimetype": "text/x-python",
   "name": "python",
   "nbconvert_exporter": "python",
   "pygments_lexer": "ipython3",
   "version": "3.7.8"
  }
 },
 "nbformat": 4,
 "nbformat_minor": 4
}
