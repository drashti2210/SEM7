{
 "cells": [
  {
   "cell_type": "markdown",
   "metadata": {},
   "source": [
    "# LAB 5 Task"
   ]
  },
  {
   "cell_type": "markdown",
   "metadata": {},
   "source": [
    "# linear regression"
   ]
  },
  {
   "cell_type": "code",
   "execution_count": 1,
   "metadata": {},
   "outputs": [],
   "source": [
    "import numpy as np"
   ]
  },
  {
   "cell_type": "code",
   "execution_count": 2,
   "metadata": {},
   "outputs": [],
   "source": [
    "# inputs\n",
    "inputs = np.array([[73, 67, 43], \n",
    "                   [91, 88, 64], \n",
    "                   [87, 134, 58], \n",
    "                   [102, 43, 37], \n",
    "                   [69, 96, 70]], dtype='float32')"
   ]
  },
  {
   "cell_type": "code",
   "execution_count": 3,
   "metadata": {},
   "outputs": [],
   "source": [
    "# target\n",
    "targets = np.array([[56], \n",
    "                    [81], \n",
    "                    [119], \n",
    "                    [22], \n",
    "                    [103]], dtype='float32')"
   ]
  },
  {
   "cell_type": "code",
   "execution_count": 7,
   "metadata": {},
   "outputs": [
    {
     "name": "stdout",
     "output_type": "stream",
     "text": [
      "theta: [[ 0.33385692  0.52783641 -2.38307247]]\n"
     ]
    }
   ],
   "source": [
    "# initializing theta(weight) with random value\n",
    "theta = np.random.randn(1,inputs.shape[1])\n",
    "print(\"theta:\",theta)"
   ]
  },
  {
   "cell_type": "code",
   "execution_count": 8,
   "metadata": {},
   "outputs": [
    {
     "name": "stdout",
     "output_type": "stream",
     "text": [
      "Theta0(bias): [[1.2508136]]\n"
     ]
    }
   ],
   "source": [
    "# initializing bias\n",
    "theta0 = np.random.randn(1,1)\n",
    "print(\"Theta0(bias):\",theta0)"
   ]
  },
  {
   "cell_type": "code",
   "execution_count": 9,
   "metadata": {},
   "outputs": [],
   "source": [
    "def linearRegressionModel(x):\n",
    "    return x @ theta.T + theta0"
   ]
  },
  {
   "cell_type": "code",
   "execution_count": 10,
   "metadata": {},
   "outputs": [],
   "source": [
    "def mse(pred,tar):\n",
    "    diff=pred-tar\n",
    "    j=np.sum(diff*diff)\n",
    "    j=j/pred.shape[0]\n",
    "    return j"
   ]
  },
  {
   "cell_type": "code",
   "execution_count": 11,
   "metadata": {},
   "outputs": [],
   "source": [
    "def grad(x):\n",
    "    h = linearRegressionModel(x[:,1:])\n",
    "    diff = h - targets\n",
    "    diff_of_j=np.sum(diff * x,axis = 0)/x.shape[0]\n",
    "    return diff_of_j"
   ]
  },
  {
   "cell_type": "code",
   "execution_count": 12,
   "metadata": {},
   "outputs": [],
   "source": [
    "predicted = linearRegressionModel(inputs)"
   ]
  },
  {
   "cell_type": "code",
   "execution_count": 14,
   "metadata": {},
   "outputs": [
    {
     "name": "stdout",
     "output_type": "stream",
     "text": [
      "predicted:\n",
      " [[-41.4847084 ]\n",
      " [-74.43524124]\n",
      " [-37.19175932]\n",
      " [-30.17249672]\n",
      " [-91.85583702]]\n"
     ]
    }
   ],
   "source": [
    "print(\"predicted:\\n\",predicted)"
   ]
  },
  {
   "cell_type": "code",
   "execution_count": 15,
   "metadata": {},
   "outputs": [
    {
     "name": "stdout",
     "output_type": "stream",
     "text": [
      "target:\n",
      " [[ 56.]\n",
      " [ 81.]\n",
      " [119.]\n",
      " [ 22.]\n",
      " [103.]]\n"
     ]
    }
   ],
   "source": [
    "print(\"target:\\n\",targets)"
   ]
  },
  {
   "cell_type": "code",
   "execution_count": 16,
   "metadata": {},
   "outputs": [
    {
     "name": "stdout",
     "output_type": "stream",
     "text": [
      "loss:  19750.002980959733\n"
     ]
    }
   ],
   "source": [
    "loss=mse(predicted,targets)\n",
    "print(\"loss: \",loss)"
   ]
  },
  {
   "cell_type": "code",
   "execution_count": 17,
   "metadata": {},
   "outputs": [],
   "source": [
    "# creating new input set for calculating d/d@(J) for theta0 - thetad\n",
    "x0=np.ones((inputs.shape[0],1),dtype='float32')\n",
    "a=np.concatenate((x0,inputs),axis=1)"
   ]
  },
  {
   "cell_type": "code",
   "execution_count": 18,
   "metadata": {},
   "outputs": [],
   "source": [
    "# updating all theta values\n",
    "gradient=grad(a)\n",
    "theta=theta-gradient[1:]*1e-5\n",
    "theta0=theta0-gradient[0]*1e-5"
   ]
  },
  {
   "cell_type": "code",
   "execution_count": 19,
   "metadata": {},
   "outputs": [
    {
     "name": "stdout",
     "output_type": "stream",
     "text": [
      "theta: [[ 0.44108956  0.65201451 -2.30553425]]\n",
      "theta0: [[1.25212588]]\n"
     ]
    }
   ],
   "source": [
    "print(\"theta:\",theta)\n",
    "print(\"theta0:\",theta0)"
   ]
  },
  {
   "cell_type": "code",
   "execution_count": 20,
   "metadata": {},
   "outputs": [],
   "source": [
    "prediction=linearRegressionModel(inputs)"
   ]
  },
  {
   "cell_type": "code",
   "execution_count": 21,
   "metadata": {},
   "outputs": [
    {
     "name": "stdout",
     "output_type": "stream",
     "text": [
      "prediction:\n",
      " [[-22.00133697]\n",
      " [-48.78563949]\n",
      " [ -6.72412485]\n",
      " [-11.0248824 ]\n",
      " [-67.10669926]]\n"
     ]
    }
   ],
   "source": [
    "print(\"prediction:\\n\",prediction)"
   ]
  },
  {
   "cell_type": "code",
   "execution_count": 22,
   "metadata": {},
   "outputs": [
    {
     "name": "stdout",
     "output_type": "stream",
     "text": [
      "target:\n",
      " [[ 56.]\n",
      " [ 81.]\n",
      " [119.]\n",
      " [ 22.]\n",
      " [103.]]\n"
     ]
    }
   ],
   "source": [
    "print(\"target:\\n\",targets)"
   ]
  },
  {
   "cell_type": "code",
   "execution_count": 23,
   "metadata": {},
   "outputs": [
    {
     "name": "stdout",
     "output_type": "stream",
     "text": [
      "loss: 13752.401669843257\n"
     ]
    }
   ],
   "source": [
    "loss=mse(prediction,targets)\n",
    "print(\"loss:\",loss)"
   ]
  },
  {
   "cell_type": "code",
   "execution_count": 24,
   "metadata": {},
   "outputs": [],
   "source": [
    "for i in range(0,10000):\n",
    "    x0=np.ones((inputs.shape[0],1),dtype='float32')\n",
    "    a=np.concatenate((x0,inputs),axis=1)\n",
    "    gradient=grad(a)\n",
    "    theta=theta-gradient[1:]*1e-5\n",
    "    theta0=theta0-gradient[0]*1e-5\n",
    "    prediction=linearRegressionModel(inputs)\n",
    "    loss=mse(prediction,targets)"
   ]
  },
  {
   "cell_type": "code",
   "execution_count": 25,
   "metadata": {},
   "outputs": [
    {
     "name": "stdout",
     "output_type": "stream",
     "text": [
      "prediction:\n",
      " [[ 57.3766383 ]\n",
      " [ 82.07293194]\n",
      " [118.66171691]\n",
      " [ 21.05574675]\n",
      " [101.95126627]]\n"
     ]
    }
   ],
   "source": [
    "print(\"prediction:\\n\",prediction)"
   ]
  },
  {
   "cell_type": "code",
   "execution_count": 26,
   "metadata": {},
   "outputs": [
    {
     "name": "stdout",
     "output_type": "stream",
     "text": [
      "target:\n",
      " [[ 56.]\n",
      " [ 81.]\n",
      " [119.]\n",
      " [ 22.]\n",
      " [103.]]\n"
     ]
    }
   ],
   "source": [
    "print(\"target:\\n\",targets)"
   ]
  },
  {
   "cell_type": "code",
   "execution_count": 27,
   "metadata": {},
   "outputs": [
    {
     "name": "stdout",
     "output_type": "stream",
     "text": [
      "loss: 1.0304416128090217\n"
     ]
    }
   ],
   "source": [
    "loss=mse(prediction,targets)\n",
    "print(\"loss:\",loss)"
   ]
  }
 ],
 "metadata": {
  "kernelspec": {
   "display_name": "Python 3",
   "language": "python",
   "name": "python3"
  },
  "language_info": {
   "codemirror_mode": {
    "name": "ipython",
    "version": 3
   },
   "file_extension": ".py",
   "mimetype": "text/x-python",
   "name": "python",
   "nbconvert_exporter": "python",
   "pygments_lexer": "ipython3",
   "version": "3.7.8"
  }
 },
 "nbformat": 4,
 "nbformat_minor": 4
}
