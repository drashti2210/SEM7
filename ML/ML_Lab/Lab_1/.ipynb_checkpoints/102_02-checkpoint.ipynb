{
 "cells": [
  {
   "cell_type": "markdown",
   "metadata": {},
   "source": [
    "# AIM: Data Prepocessing using NLTK\n",
    "import library and get positive and negative reviews of movie"
   ]
  },
  {
   "cell_type": "code",
   "execution_count": 27,
   "metadata": {},
   "outputs": [
    {
     "data": {
      "text/plain": [
       "['C:\\\\src\\\\flutter\\\\bin',\n",
       " 'C:\\\\Program Files\\\\wkhtmltopdf\\\\',\n",
       " 'C:\\\\xampp\\\\php',\n",
       " 'C:\\\\Program Files\\\\NetBeans 8.2',\n",
       " 'C:\\\\Program Files (x86)\\\\Microsoft SQL Server\\\\150\\\\DTS\\\\Binn\\\\',\n",
       " 'C:\\\\Program Files\\\\nodejs',\n",
       " 'C:\\\\Users\\\\DHWANI\\\\AppData\\\\Roaming\\\\npm',\n",
       " 'C:\\\\Program Files\\\\PostgreSQL\\\\12\\\\bin',\n",
       " 'C:\\\\Program Files\\\\PostgreSQL\\\\12\\\\lib',\n",
       " 'C:\\\\Program Files\\\\Git\\\\bin\\\\git.exe',\n",
       " 'C:\\\\Program Files\\\\Git\\\\cmd',\n",
       " 'C:\\\\Windows\\\\System32',\n",
       " 'C:\\\\WINDOWS\\\\System32\\\\WindowsPowerShell\\\\v1.0\\\\',\n",
       " 'C:\\\\Program Files\\\\Java\\\\jdk-14.0.1\\\\bin',\n",
       " 'C:\\\\Users\\\\DHWANI\\\\Anaconda3',\n",
       " 'C:\\\\Users\\\\DHWANI\\\\Anaconda3\\\\Library\\\\mingw-w64\\\\bin',\n",
       " 'C:\\\\Users\\\\DHWANI\\\\Anaconda3\\\\Library\\\\usr\\\\bin',\n",
       " 'C:\\\\Users\\\\DHWANI\\\\Anaconda3\\\\Library\\\\bin',\n",
       " 'C:\\\\Users\\\\DHWANI\\\\Anaconda3\\\\Scripts',\n",
       " 'C:\\\\Users\\\\DHWANI\\\\AppData\\\\Local\\\\Programs\\\\Python\\\\Python37\\\\Scripts\\\\',\n",
       " 'C:\\\\Users\\\\DHWANI\\\\AppData\\\\Local\\\\Programs\\\\Python\\\\Python37\\\\',\n",
       " 'C:\\\\Users\\\\DHWANI\\\\AppData\\\\Local\\\\Programs\\\\Microsoft VS Code\\\\bin',\n",
       " 'C:\\\\Users\\\\DHWANI\\\\Downloads\\\\flutter\\\\flutter\\\\bin',\n",
       " 'C:\\\\Program Files\\\\nodejs\\\\',\n",
       " 'C:\\\\Users\\\\DHWANI\\\\Downloads\\\\wkhtmltox-0.12.5-1.mxe-cross-win64\\\\wkhtmltox\\\\bin',\n",
       " 'C:\\\\Users\\\\DHWANI\\\\AppData\\\\Local\\\\GitHubDesktop\\\\bin',\n",
       " 'C:\\\\Flex Windows\\\\gcc\\\\bin',\n",
       " 'C:\\\\Flex Windows\\\\Lex\\\\bin',\n",
       " 'C:\\\\Flex Windows\\\\bison\\\\bin']"
      ]
     },
     "execution_count": 27,
     "metadata": {},
     "output_type": "execute_result"
    }
   ],
   "source": [
    "    import os\n",
    "    os.environ['PATH'].split(';')"
   ]
  },
  {
   "cell_type": "code",
   "execution_count": 21,
   "metadata": {},
   "outputs": [
    {
     "name": "stdout",
     "output_type": "stream",
     "text": [
      "<FreqDist with 39768 samples and 1583820 outcomes>\n",
      "[(',', 77717), ('the', 76529), ('.', 65876), ('a', 38106), ('and', 35576), ('of', 34123), ('to', 31937), (\"'\", 30585), ('is', 25195), ('in', 21822), ('s', 18513), ('\"', 17612), ('it', 16107), ('that', 15924), ('-', 15595)]\n"
     ]
    }
   ],
   "source": [
    "import nltk\n",
    "import matplotlib.pyplot as plt   \n",
    "from nltk.corpus import movie_reviews\n",
    "movie_reviews.words()\n",
    "len(movie_reviews.words())\n",
    "movie_reviews.categories()\n",
    "print(nltk.FreqDist(movie_reviews.words()))\n",
    "print(nltk.FreqDist(movie_reviews.words()).most_common(15))\n",
    "pos1=movie_reviews.fileids('pos')\n",
    "neg1=movie_reviews.fileids('neg')\n",
    "pos=len(movie_reviews.fileids('pos'))\n",
    "neg=len(movie_reviews.fileids('neg'))\n"
   ]
  },
  {
   "cell_type": "markdown",
   "metadata": {},
   "source": [
    "# Make chart of it "
   ]
  },
  {
   "cell_type": "code",
   "execution_count": 11,
   "metadata": {},
   "outputs": [
    {
     "data": {
      "image/png": "[encoded data removed]",
      "text/plain": [
       "<Figure size 360x360 with 1 Axes>"
      ]
     },
     "metadata": {},
     "output_type": "display_data"
    }
   ],
   "source": [
    "fig = plt.figure(figsize=(5, 5))\n",
    "\n",
    "# labels for the two classes\n",
    "labels = 'Positives', 'Negative'\n",
    "\n",
    "# Sizes for each slide\n",
    "sizes = [pos,neg]  \n",
    "\n",
    "# Declare pie chart, where the slices will be ordered and plotted counter-clockwise:\n",
    "plt.pie(sizes, labels=labels, autopct='%1.1f%%',\n",
    "        shadow=True, startangle=90)\n",
    "\n",
    "# Equal aspect ratio ensures that pie is drawn as a circle.\n",
    "plt.axis('equal')  \n",
    "\n",
    "# Display the chart\n",
    "plt.show()"
   ]
  },
  {
   "cell_type": "markdown",
   "metadata": {},
   "source": [
    "# download stopwords"
   ]
  },
  {
   "cell_type": "code",
   "execution_count": 12,
   "metadata": {},
   "outputs": [
    {
     "name": "stderr",
     "output_type": "stream",
     "text": [
      "[nltk_data] Downloading package stopwords to\n",
      "[nltk_data]     C:\\Users\\DHWANI\\AppData\\Roaming\\nltk_data...\n",
      "[nltk_data]   Package stopwords is already up-to-date!\n"
     ]
    },
    {
     "data": {
      "text/plain": [
       "True"
      ]
     },
     "execution_count": 12,
     "metadata": {},
     "output_type": "execute_result"
    }
   ],
   "source": [
    "nltk.download('stopwords')"
   ]
  },
  {
   "cell_type": "markdown",
   "metadata": {},
   "source": [
    "# manually analyze the sentiment of one movie review."
   ]
  },
  {
   "cell_type": "code",
   "execution_count": 23,
   "metadata": {},
   "outputs": [
    {
     "name": "stdout",
     "output_type": "stream",
     "text": [
      "['a', 'new', 'entry', 'in', 'the', '\"', 'revisionist', ...]\n"
     ]
    }
   ],
   "source": [
    "feature = {}\n",
    "all_words = nltk.FreqDist(movie_reviews.words())\n",
    "feature_vector = list(all_words)[:4000]\n",
    "# One movie review is \n",
    "review = movie_reviews.words('neg/cv954_19932.txt')\n",
    "print(review)"
   ]
  },
  {
   "cell_type": "code",
   "execution_count": 24,
   "metadata": {},
   "outputs": [
    {
     "name": "stdout",
     "output_type": "stream",
     "text": [
      "Positive Review\n",
      "it might surprise some to know that joel and ethan coen , who have brought such unabated lunacy to our movie screens as \" raising arizona \" and \" the hudsucker proxy , \" made their feature film debut with \" blood simple , \" a grim and often gruesome tale of revenge , murder , and literally fatal misconceptions in rural texas . \n",
      "it bears some resemblance , story-wise , to the coens' recent \" fargo , \" but even the darkly satirical humor and the enjoyably quirky characterizations that characterized that film are scarce here ; \" blood simple \" is pretty much cold and brutal from beginning to end . \n",
      "the premise of \" blood simple \" is really just a slight variation on the standard love-triangle/revenge scheme : sleazy bar owner julian marty ( dan hedaya ) hires a shifty private detective ( m . \n",
      "emmet walsh ) to kill his wife abby ( frances mcdormand ) and her illicit lover ray ( john getz ) . \n",
      "things start to go haywire when walsh decides instead to fake the murder with photographic trickery but , upon collecting the money , becomes uncertain as to whether or not marty is capable of keeping his mouth shut about the scheme . \n",
      "to reveal any more details of the story would be to give away too much , but what ensues is a series of bloody ( and i do mean bloody ) confrontations , each triggered by one or more characters misunderstanding what is actually happening . \n",
      "every act of violence or deception in this film makes sense when seen through the perpetrator's eyes , but we , the audience , are made privy to the \" big picture \" and thus can recognize that each misdeed is somehow either unnecessary or directed at the wrong person . \n",
      "this aspect of the story , along with the intense atmosphere of repulsion and brutality - one gets the sense that if guns and , in one case , shovels , were not available , some of these characters would claw each other to death - are the most effective components of the film . \n",
      "the coens might have done well to title the film \" fear and loathing in texas . \" \n",
      "some have labeled \" blood simple as a modern-day noir , but , while i am not an expert on either genre , it seems more like a horror movie than anything else . \n",
      "the coens seem much more interested in the plot twists and the atmosphere of confusion and paranoia than they do in the characters , and the final sequence is nothing more than a showdown between the one ( relatively ) innocent character and the only one of the murderers left alive . \n",
      "that said , \" blood simple \" is a very good horror movie ; the fear and suspense here are genuine . \n",
      "the coens also add plenty of quirky touches that nudge the weirdness meter upwards , such as when a character enters an empty room and accidentally steps on a gun , discharging it as it skitters across the floor , or when a murder attempt unfolds in a way such that abby mistakes her attacker for another character who has in fact been killed earlier in the film . \n",
      "that said , \" blood simple \" is not exactly flawless . \n",
      "for one thing , the motivations for the killings are still a little thin at times ; i can understand that the characters had tracks to cover ( or at least thought they did ) , but i found it a little hard to accept that all of them would so quickly resort to murder . \n",
      "and although they at least didn ? t have anyone get hacked to death with a knife , the coens also aren't quite immune to horror cliches ; they indulge in a prolonged dead-guy-seems-to-have-come-back-to-life-but-then-we-find-out-it's-only-a-dream scene that had me rolling my eyes . \n",
      "the film also ends so quickly after the final confrontation that i found myself wondering if they had simply run out of film . \n",
      " \" blood simple \" is not quite the masterpiece of neo-noir that many seem to think it is , but it's a decent movie and it showcases the coens' ability to handle suspense and violence in a visceral but non-exploitative manner . \n",
      "i would firmly recommend it to all \" coen-heads \" as well as anyone looking for something original in a thriller . \n",
      "\n"
     ]
    }
   ],
   "source": [
    "import random \n",
    "positive_review=movie_reviews.raw(pos1[random.randint(0,len(pos1))])\n",
    "print(\"Positive Review\")\n",
    "print(positive_review)"
   ]
  },
  {
   "cell_type": "code",
   "execution_count": 25,
   "metadata": {},
   "outputs": [],
   "source": [
    "import re                                  # library for regular expression operations\n",
    "import string                              # for string operations\n",
    "from nltk.stem import PorterStemmer\n",
    "from nltk.tokenize import TweetTokenizer\n",
    "from nltk.corpus import stopwords          # module for stop words that come with NLTK\n",
    "from nltk.stem import PorterStemmer        # module for stemming\n"
   ]
  },
  {
   "cell_type": "code",
   "execution_count": 26,
   "metadata": {},
   "outputs": [
    {
     "name": "stdout",
     "output_type": "stream",
     "text": [
      "it might surprise some to know that joel and ethan coen , who have brought such unabated lunacy to our movie screens as \" raising arizona \" and \" the hudsucker proxy , \" made their feature film debut with \" blood simple , \" a grim and often gruesome tale of revenge , murder , and literally fatal misconceptions in rural texas . \n",
      "it bears some resemblance , story-wise , to the coens' recent \" fargo , \" but even the darkly satirical humor and the enjoyably quirky characterizations that characterized that film are scarce here ; \" blood simple \" is pretty much cold and brutal from beginning to end . \n",
      "the premise of \" blood simple \" is really just a slight variation on the standard love-triangle/revenge scheme : sleazy bar owner julian marty ( dan hedaya ) hires a shifty private detective ( m . \n",
      "emmet walsh ) to kill his wife abby ( frances mcdormand ) and her illicit lover ray ( john getz ) . \n",
      "things start to go haywire when walsh decides instead to fake the murder with photographic trickery but , upon collecting the money , becomes uncertain as to whether or not marty is capable of keeping his mouth shut about the scheme . \n",
      "to reveal any more details of the story would be to give away too much , but what ensues is a series of bloody ( and i do mean bloody ) confrontations , each triggered by one or more characters misunderstanding what is actually happening . \n",
      "every act of violence or deception in this film makes sense when seen through the perpetrator's eyes , but we , the audience , are made privy to the \" big picture \" and thus can recognize that each misdeed is somehow either unnecessary or directed at the wrong person . \n",
      "this aspect of the story , along with the intense atmosphere of repulsion and brutality - one gets the sense that if guns and , in one case , shovels , were not available , some of these characters would claw each other to death - are the most effective components of the film . \n",
      "the coens might have done well to title the film \" fear and loathing in texas . \" \n",
      "some have labeled \" blood simple as a modern-day noir , but , while i am not an expert on either genre , it seems more like a horror movie than anything else . \n",
      "the coens seem much more interested in the plot twists and the atmosphere of confusion and paranoia than they do in the characters , and the final sequence is nothing more than a showdown between the one ( relatively ) innocent character and the only one of the murderers left alive . \n",
      "that said , \" blood simple \" is a very good horror movie ; the fear and suspense here are genuine . \n",
      "the coens also add plenty of quirky touches that nudge the weirdness meter upwards , such as when a character enters an empty room and accidentally steps on a gun , discharging it as it skitters across the floor , or when a murder attempt unfolds in a way such that abby mistakes her attacker for another character who has in fact been killed earlier in the film . \n",
      "that said , \" blood simple \" is not exactly flawless . \n",
      "for one thing , the motivations for the killings are still a little thin at times ; i can understand that the characters had tracks to cover ( or at least thought they did ) , but i found it a little hard to accept that all of them would so quickly resort to murder . \n",
      "and although they at least didn ? t have anyone get hacked to death with a knife , the coens also aren't quite immune to horror cliches ; they indulge in a prolonged dead-guy-seems-to-have-come-back-to-life-but-then-we-find-out-it's-only-a-dream scene that had me rolling my eyes . \n",
      "the film also ends so quickly after the final confrontation that i found myself wondering if they had simply run out of film . \n",
      " \" blood simple \" is not quite the masterpiece of neo-noir that many seem to think it is , but it's a decent movie and it showcases the coens' ability to handle suspense and violence in a visceral but non-exploitative manner . \n",
      "i would firmly recommend it to all \" coen-heads \" as well as anyone looking for something original in a thriller . \n",
      "\n"
     ]
    }
   ],
   "source": [
    "# Remove hyperlinks\n",
    "re.sub(r'https?:\\/\\/.*[\\r\\n]*', '', positive_review)\n",
    "\n",
    "# Remove newlines\n",
    "re.sub('\\n', '', positive_review)\n",
    "\n",
    "print(positive_review)"
   ]
  },
  {
   "cell_type": "markdown",
   "metadata": {},
   "source": [
    "# Tokenize the string"
   ]
  },
  {
   "cell_type": "code",
   "execution_count": 17,
   "metadata": {},
   "outputs": [
    {
     "name": "stdout",
     "output_type": "stream",
     "text": [
      "\n",
      "Tokenized string:\n",
      "['saving', 'private', 'ryan', '(', 'dreamworks', ')', 'running', 'time', ':', '2', 'hours', '48', 'minutes', '.', 'starring', 'tom', 'hanks', ',', 'edward', 'burns', ',', 'tom', 'sizemore', 'and', 'matt', 'damon', 'directed', 'by', 'steven', 'spielberg', 'already', 'being', 'hailed', 'as', 'the', \"'\", 'greatest', 'war', 'movie', 'ever', 'made', ',', \"'\", 'saving', 'private', 'ryan', 'is', 'an', 'harrowing', ',', 'saddening', 'and', 'riveting', 'movie', '.', 'it', 'may', 'not', 'be', 'the', 'greatest', 'war', 'movie', 'in', 'my', 'opinion', ',', 'but', \"it's\", 'certainly', 'one', 'of', 'the', 'best', 'war', 'movies', 'made', ',', 'and', 'one', 'of', 'the', 'best', 'of', '1998', '.', 'tom', 'hanks', 'stars', 'as', 'a', 'captain', \"who's\", 'troop', 'has', 'to', 'find', 'private', 'ryan', '(', 'damon', ')', 'who', 'has', 'a', 'ticket', 'home', 'because', 'his', 'three', 'brothers', 'have', 'been', 'killed', 'in', 'action', '.', 'action', ',', 'drama', 'and', 'even', 'some', 'humour', 'occur', 'as', 'the', 'troop', 'journeys', 'through', 'wartime', 'france', 'to', 'find', 'him', '.', 'after', 'the', 'disappointing', 'amistad', '(', '1997', ')', 'spielberg', 'has', 'returned', 'to', 'form', 'with', 'this', 'excellent', 'movie', '.', \"i'm\", 'not', 'the', 'war', 'movie', 'genre', 'biggest', 'fan', ',', 'but', 'i', 'found', 'this', 'film', 'to', 'be', 'gripping', ',', 'and', 'very', 'scary', ',', 'thanks', 'to', 'the', 'excellent', 'cast', ',', 'direction', 'and', 'terrifying', 'battle', 'scenes', '.', 'tom', 'hanks', 'is', 'superb', ',', 'straying', 'away', 'from', 'his', 'usually', 'soppy', 'dramatic', 'roles', ',', 'such', 'as', 'in', 'forrest', 'gump', '(', '1994', ')', '.', 'this', 'time', ',', 'he', 'plays', 'the', 'role', 'with', 'gritty', 'realism', ',', 'and', 'is', 'much', 'better', 'for', 'it', '.', 'occasionally', 'he', 'overacts', 'the', 'sentimentally', ',', 'but', 'he', 'generally', 'delivers', 'a', 'fine', 'performance', '.', 'edward', 'burns', ',', 'looking', 'a', 'lot', 'like', \"armageddon's\", 'ben', 'affleck', ',', 'also', 'delivers', 'a', 'top', 'notch', 'performance', ',', 'moving', 'away', 'from', 'his', 'roles', 'in', 'films', 'such', 'as', \"she's\", 'the', 'one', '(', '1996', ')', 'tom', 'sizemore', 'makes', 'less', 'of', 'an', 'impact', ',', 'but', 'is', 'still', 'watchable', ',', 'and', 'matt', 'damon', 'reinforcing', 'his', 'position', 'as', 'one', 'of', 'the', 'finest', 'young', 'actors', 'working', 'today', '.', 'spielberg', 'directs', 'very', 'well', ',', 'putting', 'the', 'audience', 'right', 'in', 'the', 'heart', 'of', 'the', 'action', 'of', 'the', 'battle', 'scenes', '.', 'and', 'what', 'battle', 'scenes', 'they', 'are', '!', \"they're\", 'truly', 'terrifying', ',', 'yet', 'the', 'audience', 'cannot', 'drag', 'their', 'eyes', 'away', 'from', 'the', 'screen', '.', 'the', 'battle', 'scenes', 'are', 'filmed', 'with', 'a', 'jerky', 'hand-held', 'camera', ',', 'and', 'the', 'panic', 'and', 'confusion', 'felt', 'by', 'the', 'soldiers', 'is', 'emphasized', 'by', 'this', 'technique', '.', 'the', 'gore', 'and', 'violence', \"isn't\", 'spared', 'either', ',', 'which', 'body', 'parts', 'flying', ',', 'and', 'blood', 'spurting', '.', 'this', 'film', 'is', 'certainly', 'not', 'for', 'kids', 'and', 'sensitive', 'adults', '.', 'other', 'factors', 'help', 'saving', 'private', 'ryan', 'be', 'a', 'masterpiece', 'of', '90', \"'\", 's', 'film', 'making', '.', 'the', 'cinematography', 'is', 'excellent', ',', 'and', 'the', 'music', 'score', 'by', 'john', \"william's\", 'is', 'also', 'superb', '.', 'it', 'is', 'never', 'intrusive', ',', 'and', 'adds', 'to', 'the', 'drama', 'on-screen', '.', 'but', 'while', 'they', 'are', 'thousands', 'of', 'good', 'things', 'great', 'about', 'private', 'ryan', ',', \"there's\", 'one', 'major', 'flaw', 'that', 'detracts', 'the', 'genius', 'of', 'the', 'film', ':', 'the', 'writing', '.', 'it', 'is', 'unusually', 'flat', ',', 'with', 'many', 'of', 'the', 'speeches', 'strangely', 'weak', '.', 'the', 'film', 'never', 'really', 'makes', 'any', 'profound', 'statements', '.', 'this', 'is', 'not', 'a', 'major', 'gripe', ',', 'as', 'private', 'ryan', 'is', 'a', 'film', 'of', 'action', ',', 'not', 'words', '.', 'still', ',', 'the', 'script', 'could', 'of', 'been', 'a', 'lot', 'better', '.', 'thankfully', ',', 'the', 'actors', 'help', 'partly', 'to', 'rectify', 'the', 'situation', 'with', 'their', 'great', 'delivery', 'of', 'their', 'lines', '.', 'saving', 'private', 'ryan', ',', 'in', 'the', 'end', ',', 'is', 'an', 'excellent', 'film', ',', 'but', 'not', 'the', \"'\", 'greatest', 'war', 'movie', \"'\", 'due', 'to', \"it's\", 'weak', 'acting', '.', 'this', 'film', 'should', 'be', 'viewed', 'by', 'everyone', 'who', 'has', 'the', 'stomach', 'for', 'it', ',', 'as', \"it's\", 'rewarding', 'and', 'extremely', 'worthwhile', '.', 'it', 'really', \"shouldn't\", 'be', 'missed', ',', 'and', 'dreamworks', 'skg', 'has', 'finally', 'found', \"it's\", 'first', 'hit', 'movie', '.']\n"
     ]
    }
   ],
   "source": [
    "# instantiate tokenizer class\n",
    "tokenizer = TweetTokenizer(preserve_case=False)\n",
    "\n",
    "# tokenize Reviews\n",
    "review_tokens = tokenizer.tokenize(positive_review)\n",
    "\n",
    "print()\n",
    "print('Tokenized string:')\n",
    "print(review_tokens)"
   ]
  },
  {
   "cell_type": "code",
   "execution_count": 18,
   "metadata": {},
   "outputs": [
    {
     "name": "stdout",
     "output_type": "stream",
     "text": [
      "Stop words\n",
      "\n",
      "['i', 'me', 'my', 'myself', 'we', 'our', 'ours', 'ourselves', 'you', \"you're\", \"you've\", \"you'll\", \"you'd\", 'your', 'yours', 'yourself', 'yourselves', 'he', 'him', 'his', 'himself', 'she', \"she's\", 'her', 'hers', 'herself', 'it', \"it's\", 'its', 'itself', 'they', 'them', 'their', 'theirs', 'themselves', 'what', 'which', 'who', 'whom', 'this', 'that', \"that'll\", 'these', 'those', 'am', 'is', 'are', 'was', 'were', 'be', 'been', 'being', 'have', 'has', 'had', 'having', 'do', 'does', 'did', 'doing', 'a', 'an', 'the', 'and', 'but', 'if', 'or', 'because', 'as', 'until', 'while', 'of', 'at', 'by', 'for', 'with', 'about', 'against', 'between', 'into', 'through', 'during', 'before', 'after', 'above', 'below', 'to', 'from', 'up', 'down', 'in', 'out', 'on', 'off', 'over', 'under', 'again', 'further', 'then', 'once', 'here', 'there', 'when', 'where', 'why', 'how', 'all', 'any', 'both', 'each', 'few', 'more', 'most', 'other', 'some', 'such', 'no', 'nor', 'not', 'only', 'own', 'same', 'so', 'than', 'too', 'very', 's', 't', 'can', 'will', 'just', 'don', \"don't\", 'should', \"should've\", 'now', 'd', 'll', 'm', 'o', 're', 've', 'y', 'ain', 'aren', \"aren't\", 'couldn', \"couldn't\", 'didn', \"didn't\", 'doesn', \"doesn't\", 'hadn', \"hadn't\", 'hasn', \"hasn't\", 'haven', \"haven't\", 'isn', \"isn't\", 'ma', 'mightn', \"mightn't\", 'mustn', \"mustn't\", 'needn', \"needn't\", 'shan', \"shan't\", 'shouldn', \"shouldn't\", 'wasn', \"wasn't\", 'weren', \"weren't\", 'won', \"won't\", 'wouldn', \"wouldn't\"]\n",
      "\n",
      "Punctuation\n",
      "\n",
      "!\"#$%&'()*+,-./:;<=>?@[\\]^_`{|}~\n"
     ]
    }
   ],
   "source": [
    "#Import the english stop words list from NLTK\n",
    "stopwords_english = stopwords.words('english') \n",
    "\n",
    "print('Stop words\\n')\n",
    "print(stopwords_english)\n",
    "\n",
    "print('\\nPunctuation\\n')\n",
    "print(string.punctuation)"
   ]
  },
  {
   "cell_type": "code",
   "execution_count": 19,
   "metadata": {},
   "outputs": [
    {
     "name": "stdout",
     "output_type": "stream",
     "text": [
      "removed stop words and punctuation:\n",
      "['saving', 'private', 'ryan', 'dreamworks', 'running', 'time', '2', 'hours', '48', 'minutes', 'starring', 'tom', 'hanks', 'edward', 'burns', 'tom', 'sizemore', 'matt', 'damon', 'directed', 'steven', 'spielberg', 'already', 'hailed', 'greatest', 'war', 'movie', 'ever', 'made', 'saving', 'private', 'ryan', 'harrowing', 'saddening', 'riveting', 'movie', 'may', 'greatest', 'war', 'movie', 'opinion', 'certainly', 'one', 'best', 'war', 'movies', 'made', 'one', 'best', '1998', 'tom', 'hanks', 'stars', 'captain', \"who's\", 'troop', 'find', 'private', 'ryan', 'damon', 'ticket', 'home', 'three', 'brothers', 'killed', 'action', 'action', 'drama', 'even', 'humour', 'occur', 'troop', 'journeys', 'wartime', 'france', 'find', 'disappointing', 'amistad', '1997', 'spielberg', 'returned', 'form', 'excellent', 'movie', \"i'm\", 'war', 'movie', 'genre', 'biggest', 'fan', 'found', 'film', 'gripping', 'scary', 'thanks', 'excellent', 'cast', 'direction', 'terrifying', 'battle', 'scenes', 'tom', 'hanks', 'superb', 'straying', 'away', 'usually', 'soppy', 'dramatic', 'roles', 'forrest', 'gump', '1994', 'time', 'plays', 'role', 'gritty', 'realism', 'much', 'better', 'occasionally', 'overacts', 'sentimentally', 'generally', 'delivers', 'fine', 'performance', 'edward', 'burns', 'looking', 'lot', 'like', \"armageddon's\", 'ben', 'affleck', 'also', 'delivers', 'top', 'notch', 'performance', 'moving', 'away', 'roles', 'films', 'one', '1996', 'tom', 'sizemore', 'makes', 'less', 'impact', 'still', 'watchable', 'matt', 'damon', 'reinforcing', 'position', 'one', 'finest', 'young', 'actors', 'working', 'today', 'spielberg', 'directs', 'well', 'putting', 'audience', 'right', 'heart', 'action', 'battle', 'scenes', 'battle', 'scenes', \"they're\", 'truly', 'terrifying', 'yet', 'audience', 'cannot', 'drag', 'eyes', 'away', 'screen', 'battle', 'scenes', 'filmed', 'jerky', 'hand-held', 'camera', 'panic', 'confusion', 'felt', 'soldiers', 'emphasized', 'technique', 'gore', 'violence', 'spared', 'either', 'body', 'parts', 'flying', 'blood', 'spurting', 'film', 'certainly', 'kids', 'sensitive', 'adults', 'factors', 'help', 'saving', 'private', 'ryan', 'masterpiece', '90', 'film', 'making', 'cinematography', 'excellent', 'music', 'score', 'john', \"william's\", 'also', 'superb', 'never', 'intrusive', 'adds', 'drama', 'on-screen', 'thousands', 'good', 'things', 'great', 'private', 'ryan', \"there's\", 'one', 'major', 'flaw', 'detracts', 'genius', 'film', 'writing', 'unusually', 'flat', 'many', 'speeches', 'strangely', 'weak', 'film', 'never', 'really', 'makes', 'profound', 'statements', 'major', 'gripe', 'private', 'ryan', 'film', 'action', 'words', 'still', 'script', 'could', 'lot', 'better', 'thankfully', 'actors', 'help', 'partly', 'rectify', 'situation', 'great', 'delivery', 'lines', 'saving', 'private', 'ryan', 'end', 'excellent', 'film', 'greatest', 'war', 'movie', 'due', 'weak', 'acting', 'film', 'viewed', 'everyone', 'stomach', 'rewarding', 'extremely', 'worthwhile', 'really', 'missed', 'dreamworks', 'skg', 'finally', 'found', 'first', 'hit', 'movie']\n"
     ]
    }
   ],
   "source": [
    "review=[]\n",
    "\n",
    "for word in review_tokens:  # Go through every word in your tokens list\n",
    "    if (word not in stopwords_english and  word not in string.punctuation): \n",
    "        review.append(word)\n",
    "\n",
    "print('removed stop words and punctuation:')\n",
    "print(review)"
   ]
  },
  {
   "cell_type": "markdown",
   "metadata": {},
   "source": [
    "# Stemming"
   ]
  },
  {
   "cell_type": "code",
   "execution_count": 20,
   "metadata": {},
   "outputs": [
    {
     "name": "stdout",
     "output_type": "stream",
     "text": [
      "stemmed words:\n",
      "['save', 'privat', 'ryan', 'dreamwork', 'run', 'time', '2', 'hour', '48', 'minut', 'star', 'tom', 'hank', 'edward', 'burn', 'tom', 'sizemor', 'matt', 'damon', 'direct', 'steven', 'spielberg', 'alreadi', 'hail', 'greatest', 'war', 'movi', 'ever', 'made', 'save', 'privat', 'ryan', 'harrow', 'sadden', 'rivet', 'movi', 'may', 'greatest', 'war', 'movi', 'opinion', 'certainli', 'one', 'best', 'war', 'movi', 'made', 'one', 'best', '1998', 'tom', 'hank', 'star', 'captain', \"who'\", 'troop', 'find', 'privat', 'ryan', 'damon', 'ticket', 'home', 'three', 'brother', 'kill', 'action', 'action', 'drama', 'even', 'humour', 'occur', 'troop', 'journey', 'wartim', 'franc', 'find', 'disappoint', 'amistad', '1997', 'spielberg', 'return', 'form', 'excel', 'movi', \"i'm\", 'war', 'movi', 'genr', 'biggest', 'fan', 'found', 'film', 'grip', 'scari', 'thank', 'excel', 'cast', 'direct', 'terrifi', 'battl', 'scene', 'tom', 'hank', 'superb', 'stray', 'away', 'usual', 'soppi', 'dramat', 'role', 'forrest', 'gump', '1994', 'time', 'play', 'role', 'gritti', 'realism', 'much', 'better', 'occasion', 'overact', 'sentiment', 'gener', 'deliv', 'fine', 'perform', 'edward', 'burn', 'look', 'lot', 'like', \"armageddon'\", 'ben', 'affleck', 'also', 'deliv', 'top', 'notch', 'perform', 'move', 'away', 'role', 'film', 'one', '1996', 'tom', 'sizemor', 'make', 'less', 'impact', 'still', 'watchabl', 'matt', 'damon', 'reinforc', 'posit', 'one', 'finest', 'young', 'actor', 'work', 'today', 'spielberg', 'direct', 'well', 'put', 'audienc', 'right', 'heart', 'action', 'battl', 'scene', 'battl', 'scene', \"they'r\", 'truli', 'terrifi', 'yet', 'audienc', 'cannot', 'drag', 'eye', 'away', 'screen', 'battl', 'scene', 'film', 'jerki', 'hand-held', 'camera', 'panic', 'confus', 'felt', 'soldier', 'emphas', 'techniqu', 'gore', 'violenc', 'spare', 'either', 'bodi', 'part', 'fli', 'blood', 'spurt', 'film', 'certainli', 'kid', 'sensit', 'adult', 'factor', 'help', 'save', 'privat', 'ryan', 'masterpiec', '90', 'film', 'make', 'cinematographi', 'excel', 'music', 'score', 'john', \"william'\", 'also', 'superb', 'never', 'intrus', 'add', 'drama', 'on-screen', 'thousand', 'good', 'thing', 'great', 'privat', 'ryan', \"there'\", 'one', 'major', 'flaw', 'detract', 'geniu', 'film', 'write', 'unusu', 'flat', 'mani', 'speech', 'strang', 'weak', 'film', 'never', 'realli', 'make', 'profound', 'statement', 'major', 'gripe', 'privat', 'ryan', 'film', 'action', 'word', 'still', 'script', 'could', 'lot', 'better', 'thank', 'actor', 'help', 'partli', 'rectifi', 'situat', 'great', 'deliveri', 'line', 'save', 'privat', 'ryan', 'end', 'excel', 'film', 'greatest', 'war', 'movi', 'due', 'weak', 'act', 'film', 'view', 'everyon', 'stomach', 'reward', 'extrem', 'worthwhil', 'realli', 'miss', 'dreamwork', 'skg', 'final', 'found', 'first', 'hit', 'movi']\n"
     ]
    }
   ],
   "source": [
    "# Instantiate stemming class\n",
    "stemmer = PorterStemmer() \n",
    "\n",
    "# Create an empty list to store the stems\n",
    "review_stem = [] \n",
    "\n",
    "for word in review:\n",
    "    stem_word = stemmer.stem(word)  # stemming word\n",
    "    review_stem.append(stem_word)  # append to the list\n",
    "\n",
    "print('stemmed words:')\n",
    "print(review_stem)"
   ]
  }
 ],
 "metadata": {
  "kernelspec": {
   "display_name": "Python 3",
   "language": "python",
   "name": "python3"
  },
  "language_info": {
   "codemirror_mode": {
    "name": "ipython",
    "version": 3
   },
   "file_extension": ".py",
   "mimetype": "text/x-python",
   "name": "python",
   "nbconvert_exporter": "python",
   "pygments_lexer": "ipython3",
   "version": "3.7.8"
  }
 },
 "nbformat": 4,
 "nbformat_minor": 2
}
