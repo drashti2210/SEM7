{
 "cells": [
  {
   "cell_type": "code",
   "execution_count": 4,
   "metadata": {},
   "outputs": [],
   "source": [
    "import nltk\n",
    "import matplotlib.pyplot as plt   \n",
    "from nltk.corpus import movie_reviews"
   ]
  },
  {
   "cell_type": "code",
   "execution_count": 10,
   "metadata": {},
   "outputs": [
    {
     "name": "stderr",
     "output_type": "stream",
     "text": [
      "[nltk_data] Downloading package movie_reviews to\n",
      "[nltk_data]     C:\\Users\\drash\\AppData\\Roaming\\nltk_data...\n",
      "[nltk_data]   Package movie_reviews is already up-to-date!\n"
     ]
    },
    {
     "data": {
      "text/plain": [
       "True"
      ]
     },
     "execution_count": 10,
     "metadata": {},
     "output_type": "execute_result"
    }
   ],
   "source": [
    "nltk.download('movie_reviews')"
   ]
  },
  {
   "cell_type": "code",
   "execution_count": 11,
   "metadata": {},
   "outputs": [
    {
     "data": {
      "text/plain": [
       "['neg', 'pos']"
      ]
     },
     "execution_count": 11,
     "metadata": {},
     "output_type": "execute_result"
    }
   ],
   "source": [
    "movie_reviews.words()\n",
    "len(movie_reviews.words())\n",
    "movie_reviews.categories()"
   ]
  },
  {
   "cell_type": "code",
   "execution_count": 12,
   "metadata": {},
   "outputs": [
    {
     "name": "stdout",
     "output_type": "stream",
     "text": [
      "<FreqDist with 39768 samples and 1583820 outcomes>\n",
      "[(',', 77717), ('the', 76529), ('.', 65876), ('a', 38106), ('and', 35576), ('of', 34123), ('to', 31937), (\"'\", 30585), ('is', 25195), ('in', 21822), ('s', 18513), ('\"', 17612), ('it', 16107), ('that', 15924), ('-', 15595)]\n"
     ]
    }
   ],
   "source": [
    "print(nltk.FreqDist(movie_reviews.words()))\n",
    "print(nltk.FreqDist(movie_reviews.words()).most_common(15))"
   ]
  },
  {
   "cell_type": "code",
   "execution_count": 13,
   "metadata": {},
   "outputs": [
    {
     "name": "stdout",
     "output_type": "stream",
     "text": [
      "Number of positive revies 1000\n",
      "Number of negative revies 1000\n"
     ]
    }
   ],
   "source": [
    "positive=movie_reviews.fileids('pos')\n",
    "negative=movie_reviews.fileids('neg')\n",
    "poslen=len(movie_reviews.fileids('pos'))\n",
    "neglen=len(movie_reviews.fileids('neg'))\n",
    "print(\"Number of positive revies\",poslen)\n",
    "print(\"Number of negative revies\",neglen)"
   ]
  },
  {
   "cell_type": "code",
   "execution_count": 14,
   "metadata": {},
   "outputs": [
    {
     "data": {
      "image/png": "[encoded data removed]",
      "text/plain": [
       "<Figure size 288x288 with 1 Axes>"
      ]
     },
     "metadata": {},
     "output_type": "display_data"
    }
   ],
   "source": [
    "#Generating Pie chart of the data\n",
    "fig = plt.figure(figsize=(4,4))\n",
    "# labels for classes\n",
    "labels = 'Positive', 'Negative'\n",
    "# Size \n",
    "sizes = [poslen,neglen]  \n",
    "# Declare pie chart\n",
    "plt.pie(sizes, labels=labels, autopct='%1.1f%%', shadow=True, startangle=90)\n",
    "plt.axis('equal')  \n",
    "plt.show()"
   ]
  },
  {
   "cell_type": "code",
   "execution_count": 15,
   "metadata": {},
   "outputs": [
    {
     "name": "stderr",
     "output_type": "stream",
     "text": [
      "[nltk_data] Downloading package stopwords to\n",
      "[nltk_data]     C:\\Users\\drash\\AppData\\Roaming\\nltk_data...\n",
      "[nltk_data]   Unzipping corpora\\stopwords.zip.\n"
     ]
    },
    {
     "data": {
      "text/plain": [
       "True"
      ]
     },
     "execution_count": 15,
     "metadata": {},
     "output_type": "execute_result"
    }
   ],
   "source": [
    "nltk.download('stopwords')"
   ]
  },
  {
   "cell_type": "code",
   "execution_count": null,
   "metadata": {},
   "outputs": [],
   "source": [
    "#manually analyzw the sentiment of a movie review\n",
    "feature = {}\n",
    "all_words = nltk.FreqDist(movie_reviews.words())\n",
    "feature_vector = list(all_words)[:4000] \n",
    "review = movie_reviews.words('neg/cv954_19932.txt')\n",
    "print(review)"
   ]
  },
  {
   "cell_type": "code",
   "execution_count": 18,
   "metadata": {},
   "outputs": [
    {
     "name": "stdout",
     "output_type": "stream",
     "text": [
      "Negative Review\n",
      "capsule : where are you tonight , leni rienfenstal ? \n",
      "starship troopers is an expensive , hateful and unenjoyable piece of violent pornography -- and bad pornography , at that . \n",
      "it is not good cinema , not good storytelling , and not even stupid fun : it's so cynically , calculatedly bone-headed that even the least demanding members of the audience i was with were alternately bored and revulsed . \n",
      "it's one of the worst movies i've seen in a long time . \n",
      "why am i calling this movie pornography ? \n",
      "pornography , in the abstract , is anything which is calculated to appeal to the baser instincts . \n",
      "i remember reading a review of full metal jacket which described the climact moment at the end of the movie , where private joker has to shoot the downed vc sniper , as \" a near-pornographic eternity \" . \n",
      "i didn't agree with that assessment , but i could see what was being implied : the reviewer felt as if the audience was being incited to stand up and pump their fists and shout \" do 'er , man , do 'er ! \" \n",
      "that sentiment is echoed ad nauseam throughout starship troopers . \n",
      "it's * literally * like a giant recruitment film that has gone berserk . \n",
      "it tries frantically to enlist our emotions but it winds up only being dull or sickening . \n",
      "the film takes place in our future , when earth has come under attack by some alien species that doesn't appear to have intelligence . \n",
      "to counterattack , humankind does the single stupidest thing imaginable : instead of nuke the planet from orbit , which they're clearly capable of , they send down grunts with m-16 rifles . \n",
      "this isn't heinlein , it's a bad wwii movie , one where all the most obvious points of satire are ever poked and prodded in combat scenes that are noisy , repetitive , and ultimately tiresome . \n",
      " ( one scene has a journalist on a battlefield , filimg soldiers being slaughtered , and ends with groaning predictability : said cameraman gets skewered , too . ) \n",
      "the soldiers and their commanders are consistently idiotic . \n",
      "they do not possess a germ of tactical intelligence or even common sense . \n",
      "they don't even behave like soldiers in a bad * movie * , and therefore we don't care about them . \n",
      "we hated the tom berenger character in platoon , but he * mattered * , and therefore we were curious to learn about his fate . \n",
      "here , we don't even hate the bugs -- what's there to hate ? \n",
      "hating them would be like cursing a hurricaine . \n",
      "if there's anything really hateful there , the movie doesn't know how to give it to us . \n",
      "the screenwriter ( ed neumeier -- perhaps a better appelation would be \" screen typist \" ) and director ( the increasingly talent-impaired paul verhoeven ) have not found any way to make the characters or the story serve each other . \n",
      "one of the subplots concerns a woman pilot who's great at getting out of tight situations , and does it again and again and again . \n",
      "once or twice is fine . \n",
      "by the fifth or sixth time , it's worn out its welcome . \n",
      "there's never any sense that these people are really thinking their way out of anything , or really being tested to show their mettle . \n",
      "also , the movie is irritatingly selective with how effective the bugs are to earthling weaponry . \n",
      "if a bug has one of the humans screaming in its grasp , then five guys can stand around it and blast away on full auto without doing a damned thing . \n",
      "but if one human gets cornered , he lays waste to whole platoons of bugs with one clip . \n",
      "uh-huh . \n",
      "the very worst feature of the movie is its repulsive quasi-fascist flavor . \n",
      "i say \" quasi- \" because while the movie uses many of the trappings of fascism ot eroticize its action -- the gear , the uniforms , etc . -- the movie doesn't have the nerve ( or the brains ) to be genuinely fascist , or intelligent about the subject . \n",
      "the bumpers between scenes , which are apparently intended to parody wartime recruitment propaganda are propaganda -- just so clumsy and oafish that they wind up making the bugs look relatively innocuous in comparison . \n",
      "like the rest of the movie . \n",
      "there's more , i suppose , but it's not worth it . \n",
      "the acting is bland , neither arsenic nor gravy ; the music disposable ; the camerawork turgid . \n",
      "the heartbreaking thing is that it makes independence day look like a masterpiece . \n",
      "\n"
     ]
    }
   ],
   "source": [
    "import random \n",
    "negative_review=movie_reviews.raw(negative[random.randint(0,len(negative))])\n",
    "print(\"Negative Review\")\n",
    "print(negative_review)"
   ]
  },
  {
   "cell_type": "code",
   "execution_count": 26,
   "metadata": {},
   "outputs": [],
   "source": [
    "import re                                  \n",
    "import string                              \n",
    "from nltk.stem import PorterStemmer\n",
    "from nltk.tokenize import TweetTokenizer\n",
    "from nltk.corpus import stopwords          \n",
    "from nltk.stem import PorterStemmer        "
   ]
  },
  {
   "cell_type": "code",
   "execution_count": 27,
   "metadata": {},
   "outputs": [
    {
     "name": "stdout",
     "output_type": "stream",
     "text": [
      "capsule : where are you tonight , leni rienfenstal ? \n",
      "starship troopers is an expensive , hateful and unenjoyable piece of violent pornography -- and bad pornography , at that . \n",
      "it is not good cinema , not good storytelling , and not even stupid fun : it's so cynically , calculatedly bone-headed that even the least demanding members of the audience i was with were alternately bored and revulsed . \n",
      "it's one of the worst movies i've seen in a long time . \n",
      "why am i calling this movie pornography ? \n",
      "pornography , in the abstract , is anything which is calculated to appeal to the baser instincts . \n",
      "i remember reading a review of full metal jacket which described the climact moment at the end of the movie , where private joker has to shoot the downed vc sniper , as \" a near-pornographic eternity \" . \n",
      "i didn't agree with that assessment , but i could see what was being implied : the reviewer felt as if the audience was being incited to stand up and pump their fists and shout \" do 'er , man , do 'er ! \" \n",
      "that sentiment is echoed ad nauseam throughout starship troopers . \n",
      "it's * literally * like a giant recruitment film that has gone berserk . \n",
      "it tries frantically to enlist our emotions but it winds up only being dull or sickening . \n",
      "the film takes place in our future , when earth has come under attack by some alien species that doesn't appear to have intelligence . \n",
      "to counterattack , humankind does the single stupidest thing imaginable : instead of nuke the planet from orbit , which they're clearly capable of , they send down grunts with m-16 rifles . \n",
      "this isn't heinlein , it's a bad wwii movie , one where all the most obvious points of satire are ever poked and prodded in combat scenes that are noisy , repetitive , and ultimately tiresome . \n",
      " ( one scene has a journalist on a battlefield , filimg soldiers being slaughtered , and ends with groaning predictability : said cameraman gets skewered , too . ) \n",
      "the soldiers and their commanders are consistently idiotic . \n",
      "they do not possess a germ of tactical intelligence or even common sense . \n",
      "they don't even behave like soldiers in a bad * movie * , and therefore we don't care about them . \n",
      "we hated the tom berenger character in platoon , but he * mattered * , and therefore we were curious to learn about his fate . \n",
      "here , we don't even hate the bugs -- what's there to hate ? \n",
      "hating them would be like cursing a hurricaine . \n",
      "if there's anything really hateful there , the movie doesn't know how to give it to us . \n",
      "the screenwriter ( ed neumeier -- perhaps a better appelation would be \" screen typist \" ) and director ( the increasingly talent-impaired paul verhoeven ) have not found any way to make the characters or the story serve each other . \n",
      "one of the subplots concerns a woman pilot who's great at getting out of tight situations , and does it again and again and again . \n",
      "once or twice is fine . \n",
      "by the fifth or sixth time , it's worn out its welcome . \n",
      "there's never any sense that these people are really thinking their way out of anything , or really being tested to show their mettle . \n",
      "also , the movie is irritatingly selective with how effective the bugs are to earthling weaponry . \n",
      "if a bug has one of the humans screaming in its grasp , then five guys can stand around it and blast away on full auto without doing a damned thing . \n",
      "but if one human gets cornered , he lays waste to whole platoons of bugs with one clip . \n",
      "uh-huh . \n",
      "the very worst feature of the movie is its repulsive quasi-fascist flavor . \n",
      "i say \" quasi- \" because while the movie uses many of the trappings of fascism ot eroticize its action -- the gear , the uniforms , etc . -- the movie doesn't have the nerve ( or the brains ) to be genuinely fascist , or intelligent about the subject . \n",
      "the bumpers between scenes , which are apparently intended to parody wartime recruitment propaganda are propaganda -- just so clumsy and oafish that they wind up making the bugs look relatively innocuous in comparison . \n",
      "like the rest of the movie . \n",
      "there's more , i suppose , but it's not worth it . \n",
      "the acting is bland , neither arsenic nor gravy ; the music disposable ; the camerawork turgid . \n",
      "the heartbreaking thing is that it makes independence day look like a masterpiece . \n",
      "\n"
     ]
    }
   ],
   "source": [
    "# Removing hyperlinks\n",
    "re.sub(r'https?:\\/\\/.*[\\r\\n]*', '', negative_review)\n",
    "\n",
    "# Remove newlines\n",
    "re.sub('\\n', '', negative_review)\n",
    "print(negative_review)"
   ]
  },
  {
   "cell_type": "code",
   "execution_count": 28,
   "metadata": {},
   "outputs": [
    {
     "name": "stdout",
     "output_type": "stream",
     "text": [
      "\n",
      "Tokenized string:\n",
      "['capsule', ':', 'where', 'are', 'you', 'tonight', ',', 'leni', 'rienfenstal', '?', 'starship', 'troopers', 'is', 'an', 'expensive', ',', 'hateful', 'and', 'unenjoyable', 'piece', 'of', 'violent', 'pornography', '-', '-', 'and', 'bad', 'pornography', ',', 'at', 'that', '.', 'it', 'is', 'not', 'good', 'cinema', ',', 'not', 'good', 'storytelling', ',', 'and', 'not', 'even', 'stupid', 'fun', ':', \"it's\", 'so', 'cynically', ',', 'calculatedly', 'bone-headed', 'that', 'even', 'the', 'least', 'demanding', 'members', 'of', 'the', 'audience', 'i', 'was', 'with', 'were', 'alternately', 'bored', 'and', 'revulsed', '.', \"it's\", 'one', 'of', 'the', 'worst', 'movies', \"i've\", 'seen', 'in', 'a', 'long', 'time', '.', 'why', 'am', 'i', 'calling', 'this', 'movie', 'pornography', '?', 'pornography', ',', 'in', 'the', 'abstract', ',', 'is', 'anything', 'which', 'is', 'calculated', 'to', 'appeal', 'to', 'the', 'baser', 'instincts', '.', 'i', 'remember', 'reading', 'a', 'review', 'of', 'full', 'metal', 'jacket', 'which', 'described', 'the', 'climact', 'moment', 'at', 'the', 'end', 'of', 'the', 'movie', ',', 'where', 'private', 'joker', 'has', 'to', 'shoot', 'the', 'downed', 'vc', 'sniper', ',', 'as', '\"', 'a', 'near-pornographic', 'eternity', '\"', '.', 'i', \"didn't\", 'agree', 'with', 'that', 'assessment', ',', 'but', 'i', 'could', 'see', 'what', 'was', 'being', 'implied', ':', 'the', 'reviewer', 'felt', 'as', 'if', 'the', 'audience', 'was', 'being', 'incited', 'to', 'stand', 'up', 'and', 'pump', 'their', 'fists', 'and', 'shout', '\"', 'do', \"'\", 'er', ',', 'man', ',', 'do', \"'\", 'er', '!', '\"', 'that', 'sentiment', 'is', 'echoed', 'ad', 'nauseam', 'throughout', 'starship', 'troopers', '.', \"it's\", '*', 'literally', '*', 'like', 'a', 'giant', 'recruitment', 'film', 'that', 'has', 'gone', 'berserk', '.', 'it', 'tries', 'frantically', 'to', 'enlist', 'our', 'emotions', 'but', 'it', 'winds', 'up', 'only', 'being', 'dull', 'or', 'sickening', '.', 'the', 'film', 'takes', 'place', 'in', 'our', 'future', ',', 'when', 'earth', 'has', 'come', 'under', 'attack', 'by', 'some', 'alien', 'species', 'that', \"doesn't\", 'appear', 'to', 'have', 'intelligence', '.', 'to', 'counterattack', ',', 'humankind', 'does', 'the', 'single', 'stupidest', 'thing', 'imaginable', ':', 'instead', 'of', 'nuke', 'the', 'planet', 'from', 'orbit', ',', 'which', \"they're\", 'clearly', 'capable', 'of', ',', 'they', 'send', 'down', 'grunts', 'with', 'm', '-', '16', 'rifles', '.', 'this', \"isn't\", 'heinlein', ',', \"it's\", 'a', 'bad', 'wwii', 'movie', ',', 'one', 'where', 'all', 'the', 'most', 'obvious', 'points', 'of', 'satire', 'are', 'ever', 'poked', 'and', 'prodded', 'in', 'combat', 'scenes', 'that', 'are', 'noisy', ',', 'repetitive', ',', 'and', 'ultimately', 'tiresome', '.', '(', 'one', 'scene', 'has', 'a', 'journalist', 'on', 'a', 'battlefield', ',', 'filimg', 'soldiers', 'being', 'slaughtered', ',', 'and', 'ends', 'with', 'groaning', 'predictability', ':', 'said', 'cameraman', 'gets', 'skewered', ',', 'too', '.', ')', 'the', 'soldiers', 'and', 'their', 'commanders', 'are', 'consistently', 'idiotic', '.', 'they', 'do', 'not', 'possess', 'a', 'germ', 'of', 'tactical', 'intelligence', 'or', 'even', 'common', 'sense', '.', 'they', \"don't\", 'even', 'behave', 'like', 'soldiers', 'in', 'a', 'bad', '*', 'movie', '*', ',', 'and', 'therefore', 'we', \"don't\", 'care', 'about', 'them', '.', 'we', 'hated', 'the', 'tom', 'berenger', 'character', 'in', 'platoon', ',', 'but', 'he', '*', 'mattered', '*', ',', 'and', 'therefore', 'we', 'were', 'curious', 'to', 'learn', 'about', 'his', 'fate', '.', 'here', ',', 'we', \"don't\", 'even', 'hate', 'the', 'bugs', '-', '-', \"what's\", 'there', 'to', 'hate', '?', 'hating', 'them', 'would', 'be', 'like', 'cursing', 'a', 'hurricaine', '.', 'if', \"there's\", 'anything', 'really', 'hateful', 'there', ',', 'the', 'movie', \"doesn't\", 'know', 'how', 'to', 'give', 'it', 'to', 'us', '.', 'the', 'screenwriter', '(', 'ed', 'neumeier', '-', '-', 'perhaps', 'a', 'better', 'appelation', 'would', 'be', '\"', 'screen', 'typist', '\"', ')', 'and', 'director', '(', 'the', 'increasingly', 'talent-impaired', 'paul', 'verhoeven', ')', 'have', 'not', 'found', 'any', 'way', 'to', 'make', 'the', 'characters', 'or', 'the', 'story', 'serve', 'each', 'other', '.', 'one', 'of', 'the', 'subplots', 'concerns', 'a', 'woman', 'pilot', \"who's\", 'great', 'at', 'getting', 'out', 'of', 'tight', 'situations', ',', 'and', 'does', 'it', 'again', 'and', 'again', 'and', 'again', '.', 'once', 'or', 'twice', 'is', 'fine', '.', 'by', 'the', 'fifth', 'or', 'sixth', 'time', ',', \"it's\", 'worn', 'out', 'its', 'welcome', '.', \"there's\", 'never', 'any', 'sense', 'that', 'these', 'people', 'are', 'really', 'thinking', 'their', 'way', 'out', 'of', 'anything', ',', 'or', 'really', 'being', 'tested', 'to', 'show', 'their', 'mettle', '.', 'also', ',', 'the', 'movie', 'is', 'irritatingly', 'selective', 'with', 'how', 'effective', 'the', 'bugs', 'are', 'to', 'earthling', 'weaponry', '.', 'if', 'a', 'bug', 'has', 'one', 'of', 'the', 'humans', 'screaming', 'in', 'its', 'grasp', ',', 'then', 'five', 'guys', 'can', 'stand', 'around', 'it', 'and', 'blast', 'away', 'on', 'full', 'auto', 'without', 'doing', 'a', 'damned', 'thing', '.', 'but', 'if', 'one', 'human', 'gets', 'cornered', ',', 'he', 'lays', 'waste', 'to', 'whole', 'platoons', 'of', 'bugs', 'with', 'one', 'clip', '.', 'uh-huh', '.', 'the', 'very', 'worst', 'feature', 'of', 'the', 'movie', 'is', 'its', 'repulsive', 'quasi-fascist', 'flavor', '.', 'i', 'say', '\"', 'quasi', '-', '\"', 'because', 'while', 'the', 'movie', 'uses', 'many', 'of', 'the', 'trappings', 'of', 'fascism', 'ot', 'eroticize', 'its', 'action', '-', '-', 'the', 'gear', ',', 'the', 'uniforms', ',', 'etc', '.', '-', '-', 'the', 'movie', \"doesn't\", 'have', 'the', 'nerve', '(', 'or', 'the', 'brains', ')', 'to', 'be', 'genuinely', 'fascist', ',', 'or', 'intelligent', 'about', 'the', 'subject', '.', 'the', 'bumpers', 'between', 'scenes', ',', 'which', 'are', 'apparently', 'intended', 'to', 'parody', 'wartime', 'recruitment', 'propaganda', 'are', 'propaganda', '-', '-', 'just', 'so', 'clumsy', 'and', 'oafish', 'that', 'they', 'wind', 'up', 'making', 'the', 'bugs', 'look', 'relatively', 'innocuous', 'in', 'comparison', '.', 'like', 'the', 'rest', 'of', 'the', 'movie', '.', \"there's\", 'more', ',', 'i', 'suppose', ',', 'but', \"it's\", 'not', 'worth', 'it', '.', 'the', 'acting', 'is', 'bland', ',', 'neither', 'arsenic', 'nor', 'gravy', ';', 'the', 'music', 'disposable', ';', 'the', 'camerawork', 'turgid', '.', 'the', 'heartbreaking', 'thing', 'is', 'that', 'it', 'makes', 'independence', 'day', 'look', 'like', 'a', 'masterpiece', '.']\n"
     ]
    }
   ],
   "source": [
    "#Tokenizing the string\n",
    "# instantiate tokenizer class\n",
    "tokenizer = TweetTokenizer(preserve_case=False)\n",
    "# tokenize Reviews\n",
    "review_tokens = tokenizer.tokenize(negative_review)\n",
    "\n",
    "print()\n",
    "print('Tokenized string:')\n",
    "print(review_tokens)"
   ]
  },
  {
   "cell_type": "code",
   "execution_count": 29,
   "metadata": {},
   "outputs": [
    {
     "name": "stdout",
     "output_type": "stream",
     "text": [
      "Stop words\n",
      "\n",
      "['i', 'me', 'my', 'myself', 'we', 'our', 'ours', 'ourselves', 'you', \"you're\", \"you've\", \"you'll\", \"you'd\", 'your', 'yours', 'yourself', 'yourselves', 'he', 'him', 'his', 'himself', 'she', \"she's\", 'her', 'hers', 'herself', 'it', \"it's\", 'its', 'itself', 'they', 'them', 'their', 'theirs', 'themselves', 'what', 'which', 'who', 'whom', 'this', 'that', \"that'll\", 'these', 'those', 'am', 'is', 'are', 'was', 'were', 'be', 'been', 'being', 'have', 'has', 'had', 'having', 'do', 'does', 'did', 'doing', 'a', 'an', 'the', 'and', 'but', 'if', 'or', 'because', 'as', 'until', 'while', 'of', 'at', 'by', 'for', 'with', 'about', 'against', 'between', 'into', 'through', 'during', 'before', 'after', 'above', 'below', 'to', 'from', 'up', 'down', 'in', 'out', 'on', 'off', 'over', 'under', 'again', 'further', 'then', 'once', 'here', 'there', 'when', 'where', 'why', 'how', 'all', 'any', 'both', 'each', 'few', 'more', 'most', 'other', 'some', 'such', 'no', 'nor', 'not', 'only', 'own', 'same', 'so', 'than', 'too', 'very', 's', 't', 'can', 'will', 'just', 'don', \"don't\", 'should', \"should've\", 'now', 'd', 'll', 'm', 'o', 're', 've', 'y', 'ain', 'aren', \"aren't\", 'couldn', \"couldn't\", 'didn', \"didn't\", 'doesn', \"doesn't\", 'hadn', \"hadn't\", 'hasn', \"hasn't\", 'haven', \"haven't\", 'isn', \"isn't\", 'ma', 'mightn', \"mightn't\", 'mustn', \"mustn't\", 'needn', \"needn't\", 'shan', \"shan't\", 'shouldn', \"shouldn't\", 'wasn', \"wasn't\", 'weren', \"weren't\", 'won', \"won't\", 'wouldn', \"wouldn't\"]\n",
      "\n",
      "Punctuation\n",
      "\n",
      "!\"#$%&'()*+,-./:;<=>?@[\\]^_`{|}~\n"
     ]
    }
   ],
   "source": [
    "stopwords_english = stopwords.words('english') \n",
    "print('Stop words\\n')\n",
    "print(stopwords_english)\n",
    "print('\\nPunctuation\\n')\n",
    "print(string.punctuation)"
   ]
  },
  {
   "cell_type": "code",
   "execution_count": 30,
   "metadata": {},
   "outputs": [
    {
     "name": "stdout",
     "output_type": "stream",
     "text": [
      "removed stop words and punctuation:\n",
      "['capsule', 'tonight', 'leni', 'rienfenstal', 'starship', 'troopers', 'expensive', 'hateful', 'unenjoyable', 'piece', 'violent', 'pornography', 'bad', 'pornography', 'good', 'cinema', 'good', 'storytelling', 'even', 'stupid', 'fun', 'cynically', 'calculatedly', 'bone-headed', 'even', 'least', 'demanding', 'members', 'audience', 'alternately', 'bored', 'revulsed', 'one', 'worst', 'movies', \"i've\", 'seen', 'long', 'time', 'calling', 'movie', 'pornography', 'pornography', 'abstract', 'anything', 'calculated', 'appeal', 'baser', 'instincts', 'remember', 'reading', 'review', 'full', 'metal', 'jacket', 'described', 'climact', 'moment', 'end', 'movie', 'private', 'joker', 'shoot', 'downed', 'vc', 'sniper', 'near-pornographic', 'eternity', 'agree', 'assessment', 'could', 'see', 'implied', 'reviewer', 'felt', 'audience', 'incited', 'stand', 'pump', 'fists', 'shout', 'er', 'man', 'er', 'sentiment', 'echoed', 'ad', 'nauseam', 'throughout', 'starship', 'troopers', 'literally', 'like', 'giant', 'recruitment', 'film', 'gone', 'berserk', 'tries', 'frantically', 'enlist', 'emotions', 'winds', 'dull', 'sickening', 'film', 'takes', 'place', 'future', 'earth', 'come', 'attack', 'alien', 'species', 'appear', 'intelligence', 'counterattack', 'humankind', 'single', 'stupidest', 'thing', 'imaginable', 'instead', 'nuke', 'planet', 'orbit', \"they're\", 'clearly', 'capable', 'send', 'grunts', '16', 'rifles', 'heinlein', 'bad', 'wwii', 'movie', 'one', 'obvious', 'points', 'satire', 'ever', 'poked', 'prodded', 'combat', 'scenes', 'noisy', 'repetitive', 'ultimately', 'tiresome', 'one', 'scene', 'journalist', 'battlefield', 'filimg', 'soldiers', 'slaughtered', 'ends', 'groaning', 'predictability', 'said', 'cameraman', 'gets', 'skewered', 'soldiers', 'commanders', 'consistently', 'idiotic', 'possess', 'germ', 'tactical', 'intelligence', 'even', 'common', 'sense', 'even', 'behave', 'like', 'soldiers', 'bad', 'movie', 'therefore', 'care', 'hated', 'tom', 'berenger', 'character', 'platoon', 'mattered', 'therefore', 'curious', 'learn', 'fate', 'even', 'hate', 'bugs', \"what's\", 'hate', 'hating', 'would', 'like', 'cursing', 'hurricaine', \"there's\", 'anything', 'really', 'hateful', 'movie', 'know', 'give', 'us', 'screenwriter', 'ed', 'neumeier', 'perhaps', 'better', 'appelation', 'would', 'screen', 'typist', 'director', 'increasingly', 'talent-impaired', 'paul', 'verhoeven', 'found', 'way', 'make', 'characters', 'story', 'serve', 'one', 'subplots', 'concerns', 'woman', 'pilot', \"who's\", 'great', 'getting', 'tight', 'situations', 'twice', 'fine', 'fifth', 'sixth', 'time', 'worn', 'welcome', \"there's\", 'never', 'sense', 'people', 'really', 'thinking', 'way', 'anything', 'really', 'tested', 'show', 'mettle', 'also', 'movie', 'irritatingly', 'selective', 'effective', 'bugs', 'earthling', 'weaponry', 'bug', 'one', 'humans', 'screaming', 'grasp', 'five', 'guys', 'stand', 'around', 'blast', 'away', 'full', 'auto', 'without', 'damned', 'thing', 'one', 'human', 'gets', 'cornered', 'lays', 'waste', 'whole', 'platoons', 'bugs', 'one', 'clip', 'uh-huh', 'worst', 'feature', 'movie', 'repulsive', 'quasi-fascist', 'flavor', 'say', 'quasi', 'movie', 'uses', 'many', 'trappings', 'fascism', 'ot', 'eroticize', 'action', 'gear', 'uniforms', 'etc', 'movie', 'nerve', 'brains', 'genuinely', 'fascist', 'intelligent', 'subject', 'bumpers', 'scenes', 'apparently', 'intended', 'parody', 'wartime', 'recruitment', 'propaganda', 'propaganda', 'clumsy', 'oafish', 'wind', 'making', 'bugs', 'look', 'relatively', 'innocuous', 'comparison', 'like', 'rest', 'movie', \"there's\", 'suppose', 'worth', 'acting', 'bland', 'neither', 'arsenic', 'gravy', 'music', 'disposable', 'camerawork', 'turgid', 'heartbreaking', 'thing', 'makes', 'independence', 'day', 'look', 'like', 'masterpiece']\n"
     ]
    }
   ],
   "source": [
    "review=[]\n",
    "\n",
    "for word in review_tokens:  # Go through every word in your tokens list\n",
    "    if (word not in stopwords_english and  word not in string.punctuation): \n",
    "        review.append(word)\n",
    "\n",
    "print('removed stop words and punctuation:')\n",
    "print(review)"
   ]
  },
  {
   "cell_type": "code",
   "execution_count": 31,
   "metadata": {},
   "outputs": [
    {
     "name": "stdout",
     "output_type": "stream",
     "text": [
      "stemmed words:\n",
      "['capsul', 'tonight', 'leni', 'rienfenst', 'starship', 'trooper', 'expens', 'hate', 'unenjoy', 'piec', 'violent', 'pornographi', 'bad', 'pornographi', 'good', 'cinema', 'good', 'storytel', 'even', 'stupid', 'fun', 'cynic', 'calculatedli', 'bone-head', 'even', 'least', 'demand', 'member', 'audienc', 'altern', 'bore', 'revuls', 'one', 'worst', 'movi', \"i'v\", 'seen', 'long', 'time', 'call', 'movi', 'pornographi', 'pornographi', 'abstract', 'anyth', 'calcul', 'appeal', 'baser', 'instinct', 'rememb', 'read', 'review', 'full', 'metal', 'jacket', 'describ', 'climact', 'moment', 'end', 'movi', 'privat', 'joker', 'shoot', 'down', 'vc', 'sniper', 'near-pornograph', 'etern', 'agre', 'assess', 'could', 'see', 'impli', 'review', 'felt', 'audienc', 'incit', 'stand', 'pump', 'fist', 'shout', 'er', 'man', 'er', 'sentiment', 'echo', 'ad', 'nauseam', 'throughout', 'starship', 'trooper', 'liter', 'like', 'giant', 'recruit', 'film', 'gone', 'berserk', 'tri', 'frantic', 'enlist', 'emot', 'wind', 'dull', 'sicken', 'film', 'take', 'place', 'futur', 'earth', 'come', 'attack', 'alien', 'speci', 'appear', 'intellig', 'counterattack', 'humankind', 'singl', 'stupidest', 'thing', 'imagin', 'instead', 'nuke', 'planet', 'orbit', \"they'r\", 'clearli', 'capabl', 'send', 'grunt', '16', 'rifl', 'heinlein', 'bad', 'wwii', 'movi', 'one', 'obviou', 'point', 'satir', 'ever', 'poke', 'prod', 'combat', 'scene', 'noisi', 'repetit', 'ultim', 'tiresom', 'one', 'scene', 'journalist', 'battlefield', 'filimg', 'soldier', 'slaughter', 'end', 'groan', 'predict', 'said', 'cameraman', 'get', 'skewer', 'soldier', 'command', 'consist', 'idiot', 'possess', 'germ', 'tactic', 'intellig', 'even', 'common', 'sens', 'even', 'behav', 'like', 'soldier', 'bad', 'movi', 'therefor', 'care', 'hate', 'tom', 'bereng', 'charact', 'platoon', 'matter', 'therefor', 'curiou', 'learn', 'fate', 'even', 'hate', 'bug', \"what'\", 'hate', 'hate', 'would', 'like', 'curs', 'hurricain', \"there'\", 'anyth', 'realli', 'hate', 'movi', 'know', 'give', 'us', 'screenwrit', 'ed', 'neumeier', 'perhap', 'better', 'appel', 'would', 'screen', 'typist', 'director', 'increasingli', 'talent-impair', 'paul', 'verhoeven', 'found', 'way', 'make', 'charact', 'stori', 'serv', 'one', 'subplot', 'concern', 'woman', 'pilot', \"who'\", 'great', 'get', 'tight', 'situat', 'twice', 'fine', 'fifth', 'sixth', 'time', 'worn', 'welcom', \"there'\", 'never', 'sens', 'peopl', 'realli', 'think', 'way', 'anyth', 'realli', 'test', 'show', 'mettl', 'also', 'movi', 'irritatingli', 'select', 'effect', 'bug', 'earthl', 'weaponri', 'bug', 'one', 'human', 'scream', 'grasp', 'five', 'guy', 'stand', 'around', 'blast', 'away', 'full', 'auto', 'without', 'damn', 'thing', 'one', 'human', 'get', 'corner', 'lay', 'wast', 'whole', 'platoon', 'bug', 'one', 'clip', 'uh-huh', 'worst', 'featur', 'movi', 'repuls', 'quasi-fascist', 'flavor', 'say', 'quasi', 'movi', 'use', 'mani', 'trap', 'fascism', 'ot', 'erotic', 'action', 'gear', 'uniform', 'etc', 'movi', 'nerv', 'brain', 'genuin', 'fascist', 'intellig', 'subject', 'bumper', 'scene', 'appar', 'intend', 'parodi', 'wartim', 'recruit', 'propaganda', 'propaganda', 'clumsi', 'oafish', 'wind', 'make', 'bug', 'look', 'rel', 'innocu', 'comparison', 'like', 'rest', 'movi', \"there'\", 'suppos', 'worth', 'act', 'bland', 'neither', 'arsen', 'gravi', 'music', 'dispos', 'camerawork', 'turgid', 'heartbreak', 'thing', 'make', 'independ', 'day', 'look', 'like', 'masterpiec']\n"
     ]
    }
   ],
   "source": [
    "#stemming\n",
    "# Instantiate stemming class\n",
    "stemmer = PorterStemmer() \n",
    "# Create an empty list to store the stems\n",
    "review_stem = [] \n",
    "for word in review:\n",
    "    stem_word = stemmer.stem(word)  # stemming word\n",
    "    review_stem.append(stem_word)  # append to the list\n",
    "print('stemmed words:')\n",
    "print(review_stem)"
   ]
  },
  {
   "cell_type": "code",
   "execution_count": null,
   "metadata": {},
   "outputs": [],
   "source": []
  }
 ],
 "metadata": {
  "kernelspec": {
   "display_name": "Python 3",
   "language": "python",
   "name": "python3"
  },
  "language_info": {
   "codemirror_mode": {
    "name": "ipython",
    "version": 3
   },
   "file_extension": ".py",
   "mimetype": "text/x-python",
   "name": "python",
   "nbconvert_exporter": "python",
   "pygments_lexer": "ipython3",
   "version": "3.7.8"
  }
 },
 "nbformat": 4,
 "nbformat_minor": 4
}
