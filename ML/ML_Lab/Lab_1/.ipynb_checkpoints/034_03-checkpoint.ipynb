{
 "cells": [
  {
   "cell_type": "code",
   "execution_count": 3,
   "metadata": {},
   "outputs": [],
   "source": [
    "import numpy as np"
   ]
  },
  {
   "cell_type": "code",
   "execution_count": 4,
   "metadata": {},
   "outputs": [
    {
     "name": "stdout",
     "output_type": "stream",
     "text": [
      "[[1 2]\n",
      " [3 4]\n",
      " [5 6]]\n",
      "[[1 2 3]\n",
      " [4 5 6]]\n"
     ]
    }
   ],
   "source": [
    "#1) Create Two numpy array of size 3 X 2 and 2 X 3\n",
    "array1 = np.array([[1, 2], [3, 4], [5, 6]])\n",
    "print(array1)\n",
    "\n",
    "array2 = np.array([[1, 2, 3], [4, 5, 6]])\n",
    "print(array2)"
   ]
  },
  {
   "cell_type": "code",
   "execution_count": 10,
   "metadata": {},
   "outputs": [
    {
     "name": "stdout",
     "output_type": "stream",
     "text": [
      "[[5 3]\n",
      " [3 4]\n",
      " [0 3]]\n",
      "[[5 4 4]\n",
      " [3 4 2]]\n"
     ]
    }
   ],
   "source": [
    "#2) Randomly Initalize that array\n",
    "mat1 = np.random.randint(6, size=(3,2))\n",
    "mat2=np.random.randint(6, size=(2,3))\n",
    "print(mat1)\n",
    "print(mat2)"
   ]
  },
  {
   "cell_type": "code",
   "execution_count": 18,
   "metadata": {},
   "outputs": [
    {
     "name": "stdout",
     "output_type": "stream",
     "text": [
      "[[34 32 26]\n",
      " [27 28 20]\n",
      " [ 9 12  6]]\n"
     ]
    }
   ],
   "source": [
    "#3) Perform matrix multiplication\n",
    "matrixmul = np.matmul(mat1, mat2)\n",
    "print(matrixmul)"
   ]
  },
  {
   "cell_type": "code",
   "execution_count": 19,
   "metadata": {},
   "outputs": [
    {
     "ename": "ValueError",
     "evalue": "operands could not be broadcast together with shapes (3,2) (2,3) ",
     "output_type": "error",
     "traceback": [
      "\u001b[1;31m---------------------------------------------------------------------------\u001b[0m",
      "\u001b[1;31mValueError\u001b[0m                                Traceback (most recent call last)",
      "\u001b[1;32m<ipython-input-19-07a61527bc1e>\u001b[0m in \u001b[0;36m<module>\u001b[1;34m\u001b[0m\n\u001b[0;32m      1\u001b[0m \u001b[1;31m#4) Perform elementwise matrix multiplication\u001b[0m\u001b[1;33m\u001b[0m\u001b[1;33m\u001b[0m\u001b[1;33m\u001b[0m\u001b[0m\n\u001b[1;32m----> 2\u001b[1;33m \u001b[0melmtmul\u001b[0m \u001b[1;33m=\u001b[0m \u001b[0mnp\u001b[0m\u001b[1;33m.\u001b[0m\u001b[0mmultiply\u001b[0m\u001b[1;33m(\u001b[0m\u001b[0mmat1\u001b[0m\u001b[1;33m,\u001b[0m \u001b[0mmat2\u001b[0m\u001b[1;33m)\u001b[0m\u001b[1;33m\u001b[0m\u001b[1;33m\u001b[0m\u001b[0m\n\u001b[0m\u001b[0;32m      3\u001b[0m \u001b[0mprint\u001b[0m\u001b[1;33m(\u001b[0m\u001b[0melmtmul\u001b[0m\u001b[1;33m)\u001b[0m\u001b[1;33m\u001b[0m\u001b[1;33m\u001b[0m\u001b[0m\n",
      "\u001b[1;31mValueError\u001b[0m: operands could not be broadcast together with shapes (3,2) (2,3) "
     ]
    }
   ],
   "source": [
    "#4) Perform elementwise matrix multiplication\n",
    "elmtmul = np.multiply(mat1, mat2)\n",
    "print(elmtmul)"
   ]
  },
  {
   "cell_type": "code",
   "execution_count": 20,
   "metadata": {},
   "outputs": [
    {
     "name": "stdout",
     "output_type": "stream",
     "text": [
      "3.0\n"
     ]
    }
   ],
   "source": [
    "#5) Find mean of first matrix\n",
    "meanmat1 = np.mean(mat1)\n",
    "print(meanmat1)"
   ]
  },
  {
   "cell_type": "code",
   "execution_count": 12,
   "metadata": {},
   "outputs": [],
   "source": [
    "#6) Convert Numeric entries(columns) of mtcars.csv to Mean Centered Version\n",
    "from numpy import genfromtxt\n",
    "data = genfromtxt('mtcars.csv', delimiter=',')"
   ]
  },
  {
   "cell_type": "code",
   "execution_count": 13,
   "metadata": {},
   "outputs": [
    {
     "data": {
      "text/plain": [
       "array([[ 9.1000e-01, -1.9000e-01, -7.0720e+01, -3.6690e+01,  3.0000e-01,\n",
       "        -6.0000e-01, -1.3900e+00, -4.4000e-01,  5.9000e-01,  3.1000e-01,\n",
       "         1.1900e+00],\n",
       "       [ 9.1000e-01, -1.9000e-01, -7.0720e+01, -3.6690e+01,  3.0000e-01,\n",
       "        -3.4000e-01, -8.3000e-01, -4.4000e-01,  5.9000e-01,  3.1000e-01,\n",
       "         1.1900e+00],\n",
       "       [ 2.7100e+00, -2.1900e+00, -1.2272e+02, -5.3690e+01,  2.5000e-01,\n",
       "        -9.0000e-01,  7.6000e-01,  5.6000e-01,  5.9000e-01,  3.1000e-01,\n",
       "        -1.8100e+00],\n",
       "       [ 1.3100e+00, -1.9000e-01,  2.7280e+01, -3.6690e+01, -5.2000e-01,\n",
       "        -0.0000e+00,  1.5900e+00,  5.6000e-01, -4.1000e-01, -6.9000e-01,\n",
       "        -1.8100e+00],\n",
       "       [-1.3900e+00,  1.8100e+00,  1.2928e+02,  2.8310e+01, -4.5000e-01,\n",
       "         2.2000e-01, -8.3000e-01, -4.4000e-01, -4.1000e-01, -6.9000e-01,\n",
       "        -8.1000e-01],\n",
       "       [-1.9900e+00, -1.9000e-01, -5.7200e+00, -4.1690e+01, -8.4000e-01,\n",
       "         2.4000e-01,  2.3700e+00,  5.6000e-01, -4.1000e-01, -6.9000e-01,\n",
       "        -1.8100e+00],\n",
       "       [-5.7900e+00,  1.8100e+00,  1.2928e+02,  9.8310e+01, -3.9000e-01,\n",
       "         3.5000e-01, -2.0100e+00, -4.4000e-01, -4.1000e-01, -6.9000e-01,\n",
       "         1.1900e+00],\n",
       "       [ 4.3100e+00, -2.1900e+00, -8.4020e+01, -8.4690e+01,  9.0000e-02,\n",
       "        -3.0000e-02,  2.1500e+00,  5.6000e-01, -4.1000e-01,  3.1000e-01,\n",
       "        -8.1000e-01],\n",
       "       [ 2.7100e+00, -2.1900e+00, -8.9920e+01, -5.1690e+01,  3.2000e-01,\n",
       "        -7.0000e-02,  5.0500e+00,  5.6000e-01, -4.1000e-01,  3.1000e-01,\n",
       "        -8.1000e-01],\n",
       "       [-8.9000e-01, -1.9000e-01, -6.3120e+01, -2.3690e+01,  3.2000e-01,\n",
       "         2.2000e-01,  4.5000e-01,  5.6000e-01, -4.1000e-01,  3.1000e-01,\n",
       "         1.1900e+00],\n",
       "       [-2.2900e+00, -1.9000e-01, -6.3120e+01, -2.3690e+01,  3.2000e-01,\n",
       "         2.2000e-01,  1.0500e+00,  5.6000e-01, -4.1000e-01,  3.1000e-01,\n",
       "         1.1900e+00],\n",
       "       [-3.6900e+00,  1.8100e+00,  4.5080e+01,  3.3310e+01, -5.3000e-01,\n",
       "         8.5000e-01, -4.5000e-01, -4.4000e-01, -4.1000e-01, -6.9000e-01,\n",
       "         1.9000e-01],\n",
       "       [-2.7900e+00,  1.8100e+00,  4.5080e+01,  3.3310e+01, -5.3000e-01,\n",
       "         5.1000e-01, -2.5000e-01, -4.4000e-01, -4.1000e-01, -6.9000e-01,\n",
       "         1.9000e-01],\n",
       "       [-4.8900e+00,  1.8100e+00,  4.5080e+01,  3.3310e+01, -5.3000e-01,\n",
       "         5.6000e-01,  1.5000e-01, -4.4000e-01, -4.1000e-01, -6.9000e-01,\n",
       "         1.9000e-01],\n",
       "       [-9.6900e+00,  1.8100e+00,  2.4128e+02,  5.8310e+01, -6.7000e-01,\n",
       "         2.0300e+00,  1.3000e-01, -4.4000e-01, -4.1000e-01, -6.9000e-01,\n",
       "         1.1900e+00],\n",
       "       [-9.6900e+00,  1.8100e+00,  2.2928e+02,  6.8310e+01, -6.0000e-01,\n",
       "         2.2100e+00, -3.0000e-02, -4.4000e-01, -4.1000e-01, -6.9000e-01,\n",
       "         1.1900e+00],\n",
       "       [-5.3900e+00,  1.8100e+00,  2.0928e+02,  8.3310e+01, -3.7000e-01,\n",
       "         2.1300e+00, -4.3000e-01, -4.4000e-01, -4.1000e-01, -6.9000e-01,\n",
       "         1.1900e+00],\n",
       "       [ 1.2310e+01, -2.1900e+00, -1.5202e+02, -8.0690e+01,  4.8000e-01,\n",
       "        -1.0200e+00,  1.6200e+00,  5.6000e-01,  5.9000e-01,  3.1000e-01,\n",
       "        -1.8100e+00],\n",
       "       [ 1.0310e+01, -2.1900e+00, -1.5502e+02, -9.4690e+01,  1.3300e+00,\n",
       "        -1.6000e+00,  6.7000e-01,  5.6000e-01,  5.9000e-01,  3.1000e-01,\n",
       "        -8.1000e-01],\n",
       "       [ 1.3810e+01, -2.1900e+00, -1.5962e+02, -8.1690e+01,  6.2000e-01,\n",
       "        -1.3800e+00,  2.0500e+00,  5.6000e-01,  5.9000e-01,  3.1000e-01,\n",
       "        -1.8100e+00],\n",
       "       [ 1.4100e+00, -2.1900e+00, -1.1062e+02, -4.9690e+01,  1.0000e-01,\n",
       "        -7.5000e-01,  2.1600e+00,  5.6000e-01, -4.1000e-01, -6.9000e-01,\n",
       "        -1.8100e+00],\n",
       "       [-4.5900e+00,  1.8100e+00,  8.7280e+01,  3.3100e+00, -8.4000e-01,\n",
       "         3.0000e-01, -9.8000e-01, -4.4000e-01, -4.1000e-01, -6.9000e-01,\n",
       "        -8.1000e-01],\n",
       "       [-4.8900e+00,  1.8100e+00,  7.3280e+01,  3.3100e+00, -4.5000e-01,\n",
       "         2.2000e-01, -5.5000e-01, -4.4000e-01, -4.1000e-01, -6.9000e-01,\n",
       "        -8.1000e-01],\n",
       "       [-6.7900e+00,  1.8100e+00,  1.1928e+02,  9.8310e+01,  1.3000e-01,\n",
       "         6.2000e-01, -2.4400e+00, -4.4000e-01, -4.1000e-01, -6.9000e-01,\n",
       "         1.1900e+00],\n",
       "       [-8.9000e-01,  1.8100e+00,  1.6928e+02,  2.8310e+01, -5.2000e-01,\n",
       "         6.3000e-01, -8.0000e-01, -4.4000e-01, -4.1000e-01, -6.9000e-01,\n",
       "        -8.1000e-01],\n",
       "       [ 7.2100e+00, -2.1900e+00, -1.5172e+02, -8.0690e+01,  4.8000e-01,\n",
       "        -1.2800e+00,  1.0500e+00,  5.6000e-01,  5.9000e-01,  3.1000e-01,\n",
       "        -1.8100e+00],\n",
       "       [ 5.9100e+00, -2.1900e+00, -1.1042e+02, -5.5690e+01,  8.3000e-01,\n",
       "        -1.0800e+00, -1.1500e+00, -4.4000e-01,  5.9000e-01,  1.3100e+00,\n",
       "        -8.1000e-01],\n",
       "       [ 1.0310e+01, -2.1900e+00, -1.3562e+02, -3.3690e+01,  1.7000e-01,\n",
       "        -1.7000e+00, -9.5000e-01,  5.6000e-01,  5.9000e-01,  1.3100e+00,\n",
       "        -8.1000e-01],\n",
       "       [-4.2900e+00,  1.8100e+00,  1.2028e+02,  1.1731e+02,  6.2000e-01,\n",
       "        -5.0000e-02, -3.3500e+00, -4.4000e-01,  5.9000e-01,  1.3100e+00,\n",
       "         1.1900e+00],\n",
       "       [-3.9000e-01, -1.9000e-01, -8.5720e+01,  2.8310e+01,  2.0000e-02,\n",
       "        -4.5000e-01, -2.3500e+00, -4.4000e-01,  5.9000e-01,  1.3100e+00,\n",
       "         3.1900e+00],\n",
       "       [-5.0900e+00,  1.8100e+00,  7.0280e+01,  1.8831e+02, -6.0000e-02,\n",
       "         3.5000e-01, -3.2500e+00, -4.4000e-01,  5.9000e-01,  1.3100e+00,\n",
       "         5.1900e+00],\n",
       "       [ 1.3100e+00, -2.1900e+00, -1.0972e+02, -3.7690e+01,  5.1000e-01,\n",
       "        -4.4000e-01,  7.5000e-01,  5.6000e-01,  5.9000e-01,  3.1000e-01,\n",
       "        -8.1000e-01]])"
      ]
     },
     "execution_count": 13,
     "metadata": {},
     "output_type": "execute_result"
    }
   ],
   "source": [
    "data = np.delete(data,0, axis=0)\n",
    "data = np.delete(data,0, axis=1)\n",
    "data_mean_centric = data - np.mean(data, axis=0)\n",
    "np.around(data_mean_centric, decimals=2)"
   ]
  },
  {
   "cell_type": "code",
   "execution_count": 14,
   "metadata": {},
   "outputs": [
    {
     "data": {
      "text/plain": [
       "array([ 0.,  0., -0.,  0., -0.,  0., -0.,  0.,  0.,  0.,  0.])"
      ]
     },
     "execution_count": 14,
     "metadata": {},
     "output_type": "execute_result"
    }
   ],
   "source": [
    "np.around(np.mean(data_mean_centric,axis=0),decimals=2)"
   ]
  },
  {
   "cell_type": "code",
   "execution_count": null,
   "metadata": {},
   "outputs": [],
   "source": []
  }
 ],
 "metadata": {
  "kernelspec": {
   "display_name": "Python 3",
   "language": "python",
   "name": "python3"
  },
  "language_info": {
   "codemirror_mode": {
    "name": "ipython",
    "version": 3
   },
   "file_extension": ".py",
   "mimetype": "text/x-python",
   "name": "python",
   "nbconvert_exporter": "python",
   "pygments_lexer": "ipython3",
   "version": "3.7.8"
  }
 },
 "nbformat": 4,
 "nbformat_minor": 4
}
