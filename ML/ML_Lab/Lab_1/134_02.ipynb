{
 "cells": [
  {
   "cell_type": "markdown",
   "metadata": {},
   "source": [
    "# Exersice_2 nltk packages"
   ]
  },
  {
   "cell_type": "code",
   "execution_count": 32,
   "metadata": {},
   "outputs": [],
   "source": [
    "import nltk\n",
    "import matplotlib.pyplot as plt   \n",
    "from nltk.corpus import movie_reviews"
   ]
  },
  {
   "cell_type": "code",
   "execution_count": 33,
   "metadata": {},
   "outputs": [
    {
     "name": "stderr",
     "output_type": "stream",
     "text": [
      "[nltk_data] Downloading package movie_reviews to\n",
      "[nltk_data]     C:\\Users\\drash\\AppData\\Roaming\\nltk_data...\n",
      "[nltk_data]   Package movie_reviews is already up-to-date!\n"
     ]
    },
    {
     "data": {
      "text/plain": [
       "True"
      ]
     },
     "execution_count": 33,
     "metadata": {},
     "output_type": "execute_result"
    }
   ],
   "source": [
    "nltk.download('movie_reviews')"
   ]
  },
  {
   "cell_type": "code",
   "execution_count": 34,
   "metadata": {},
   "outputs": [
    {
     "data": {
      "text/plain": [
       "['neg', 'pos']"
      ]
     },
     "execution_count": 34,
     "metadata": {},
     "output_type": "execute_result"
    }
   ],
   "source": [
    "#movie revie categories\n",
    "movie_reviews.words()\n",
    "len(movie_reviews.words())\n",
    "movie_reviews.categories()"
   ]
  },
  {
   "cell_type": "code",
   "execution_count": 35,
   "metadata": {},
   "outputs": [
    {
     "name": "stdout",
     "output_type": "stream",
     "text": [
      "<FreqDist with 39768 samples and 1583820 outcomes>\n",
      "[(',', 77717), ('the', 76529), ('.', 65876), ('a', 38106), ('and', 35576), ('of', 34123), ('to', 31937), (\"'\", 30585), ('is', 25195), ('in', 21822), ('s', 18513), ('\"', 17612), ('it', 16107), ('that', 15924), ('-', 15595)]\n"
     ]
    }
   ],
   "source": [
    "print(nltk.FreqDist(movie_reviews.words()))\n",
    "print(nltk.FreqDist(movie_reviews.words()).most_common(15))"
   ]
  },
  {
   "cell_type": "code",
   "execution_count": 36,
   "metadata": {},
   "outputs": [
    {
     "name": "stdout",
     "output_type": "stream",
     "text": [
      "Number of positive revies 1000\n",
      "Number of negative revies 1000\n"
     ]
    }
   ],
   "source": [
    "#Diffetiating positive and negative reviews\n",
    "positive=movie_reviews.fileids('pos')\n",
    "negative=movie_reviews.fileids('neg')\n",
    "poslen=len(movie_reviews.fileids('pos'))\n",
    "neglen=len(movie_reviews.fileids('neg'))\n",
    "print(\"Number of positive revies\",poslen)\n",
    "print(\"Number of negative revies\",neglen)"
   ]
  },
  {
   "cell_type": "code",
   "execution_count": 38,
   "metadata": {},
   "outputs": [
    {
     "data": {
      "image/png": "[encoded data removed]",
      "text/plain": [
       "<Figure size 288x288 with 1 Axes>"
      ]
     },
     "metadata": {},
     "output_type": "display_data"
    }
   ],
   "source": [
    "#Generating Pie chart of the data\n",
    "fig = plt.figure(figsize=(4,4))\n",
    "# labels for classes\n",
    "labels = 'Positive', 'Negative'\n",
    "# Size \n",
    "sizes = [poslen,neglen]  \n",
    "# Declare pie chart\n",
    "plt.pie(sizes, labels=labels, autopct='%1.1f%%', shadow=True, startangle=90)\n",
    "plt.axis('equal')  \n",
    "plt.show()"
   ]
  },
  {
   "cell_type": "code",
   "execution_count": 39,
   "metadata": {},
   "outputs": [
    {
     "name": "stderr",
     "output_type": "stream",
     "text": [
      "[nltk_data] Downloading package stopwords to\n",
      "[nltk_data]     C:\\Users\\drash\\AppData\\Roaming\\nltk_data...\n",
      "[nltk_data]   Package stopwords is already up-to-date!\n"
     ]
    },
    {
     "data": {
      "text/plain": [
       "True"
      ]
     },
     "execution_count": 39,
     "metadata": {},
     "output_type": "execute_result"
    }
   ],
   "source": [
    "nltk.download('stopwords')"
   ]
  },
  {
   "cell_type": "code",
   "execution_count": 40,
   "metadata": {},
   "outputs": [
    {
     "name": "stdout",
     "output_type": "stream",
     "text": [
      "['a', 'new', 'entry', 'in', 'the', '\"', 'revisionist', ...]\n"
     ]
    }
   ],
   "source": [
    "#manually analyzw the sentiment of a movie review\n",
    "feature = {}\n",
    "all_words = nltk.FreqDist(movie_reviews.words())\n",
    "feature_vector = list(all_words)[:4000] \n",
    "review = movie_reviews.words('neg/cv954_19932.txt')\n",
    "print(review)"
   ]
  },
  {
   "cell_type": "code",
   "execution_count": 41,
   "metadata": {},
   "outputs": [
    {
     "name": "stdout",
     "output_type": "stream",
     "text": [
      "Negative Review\n",
      "romeo is bleeding wants to carry the unusual flavor of reservoir dogs or bad lieutenant . \n",
      "with director peter medak , whose previous credits include the good films let him have it and the krays , and top-notch character actors gary oldman and lena olin , they seemed likely to be a successful combination . \n",
      "those mentioned films , however , brought something to the screen that romeo is bleeding did not : a solid , well-written screenplay . \n",
      "call me cynical , but the jobs of writer and producer don't seem to mix well . \n",
      "gary oldman plays jack grimaldi , a good cop turned bad , selling information to the mob and cheating on his wife . \n",
      "his cheating is obvious enough to obtain his nickname , although the name doesn't provide any insight or analogy to the shakespearean character . \n",
      "jack has become addicted to \" feeding the hole \" , a hole in the ground where he stores his payoff money . \n",
      "when he realizes his colleagues are being shot , he feebly attempts to get out . \n",
      "gary oldman's performance is disappointingly weak ; he seems nearly bored . \n",
      "in the process , he also gets tangled-up with mona demarkov , a russian mobsterette who wants to take over the territory from top boss falcone , played adequately by roy scheider . \n",
      "demarkov , played by lena olin , is a tough but tremendously sexy woman with seemingly no problems maneuvering within the mob world . \n",
      "this character is combination of both linda hamilton and arnold schwarznegger from terminator 2 . i can't remember seeing a character quite like her . \n",
      "after being shot , handcuffed , and thrown in the back seat of a car , she still manages to cause an accident , kick out the windshield with her legs , grab a suitcase full of money ( plus some important documentation ) , climb through the rubble , land on her shot leg , and still succeed at running for safety . \n",
      "what a woman ! \n",
      "lena olin's performance is the only glimmer in this dismal film . \n",
      "anabella sciorra is wasted in her role as romeo's wife . \n",
      "there is little insight into her character . \n",
      "she's depressed , she makes obvious references , she mopes around the house . \n",
      "juliette lewis , as romeo's girlfriend , is treated with the same cliche attitudes , although ms . lewis' portrayal certainly didn't improve it . \n",
      "both women were anything but sexy or attractive . \n",
      "poorly developed characters aside , the screenplay also suffers from several logistical problems . \n",
      "it is so discouraging to watch a film and want to shout at the main character ( not ) to do something . \n",
      "for example , jack and his friends attend a funeral to hang in the background to scope-out the mob scene . \n",
      "fine . \n",
      "jack spots the big boss with his goons by the gravesite . \n",
      "fine . \n",
      "what does jack proceed to do ? \n",
      "he brushes his friends off by telling them he isn't feeling well , then strolls over to the boss . \n",
      "why ? \n",
      "the boss had all ready threatened him ; falcone simply takes the opportunity to issue more threats by ordering his goons to take off some of jack's toes by the gravesite . \n",
      "i guess they weren't worried about any federal agents lingering around after the funeral . . . . \n",
      "or here's another : demarkov set-up her own death by cutting off her arm with a circular saw . \n",
      "she proceeded to set the place on fire . \n",
      "wouldn't the flames burn off the fingerprints ? \n",
      "aren't dental records more important ? \n",
      "as bright and resourceful as she was supposed to be , couldn't she come up with a better plot ? \n",
      " ( and it took her no time at all to get a good-fitting , functional prosthesis . ) \n",
      "lack of attention to detail certainly adds up in a film . \n",
      "this film doesn't even add up the large details . \n",
      "there is little or no consistency in the story-line . \n",
      "not much makes sense . \n",
      "the direction lacks cohesion , surprising from a director whose previous credits are impeccable . \n",
      "the moods shift , the styles shift , and no one can seem to decide if it is a serious film or satire of one . \n",
      "so while it certainly isn't reservoir dogs , it certainly isn't diva . \n",
      "there's plenty more to tear apart in this film . \n",
      "my advice to someone who hasn't seen it to to wait until it comes on video . \n",
      "there are some quotable lines that would provide a campy evening if not taken seriously . \n",
      "it's not a boring film , just not a good one . \n",
      "or an intelligent one . \n",
      "\n"
     ]
    }
   ],
   "source": [
    "import random \n",
    "negative_review=movie_reviews.raw(negative[random.randint(0,len(negative))])\n",
    "print(\"Negative Review\")\n",
    "print(negative_review)"
   ]
  },
  {
   "cell_type": "code",
   "execution_count": 42,
   "metadata": {},
   "outputs": [],
   "source": [
    "import re                                  \n",
    "import string                              \n",
    "from nltk.stem import PorterStemmer\n",
    "from nltk.tokenize import TweetTokenizer\n",
    "from nltk.corpus import stopwords          \n",
    "from nltk.stem import PorterStemmer        "
   ]
  },
  {
   "cell_type": "code",
   "execution_count": 43,
   "metadata": {},
   "outputs": [
    {
     "name": "stdout",
     "output_type": "stream",
     "text": [
      "romeo is bleeding wants to carry the unusual flavor of reservoir dogs or bad lieutenant . \n",
      "with director peter medak , whose previous credits include the good films let him have it and the krays , and top-notch character actors gary oldman and lena olin , they seemed likely to be a successful combination . \n",
      "those mentioned films , however , brought something to the screen that romeo is bleeding did not : a solid , well-written screenplay . \n",
      "call me cynical , but the jobs of writer and producer don't seem to mix well . \n",
      "gary oldman plays jack grimaldi , a good cop turned bad , selling information to the mob and cheating on his wife . \n",
      "his cheating is obvious enough to obtain his nickname , although the name doesn't provide any insight or analogy to the shakespearean character . \n",
      "jack has become addicted to \" feeding the hole \" , a hole in the ground where he stores his payoff money . \n",
      "when he realizes his colleagues are being shot , he feebly attempts to get out . \n",
      "gary oldman's performance is disappointingly weak ; he seems nearly bored . \n",
      "in the process , he also gets tangled-up with mona demarkov , a russian mobsterette who wants to take over the territory from top boss falcone , played adequately by roy scheider . \n",
      "demarkov , played by lena olin , is a tough but tremendously sexy woman with seemingly no problems maneuvering within the mob world . \n",
      "this character is combination of both linda hamilton and arnold schwarznegger from terminator 2 . i can't remember seeing a character quite like her . \n",
      "after being shot , handcuffed , and thrown in the back seat of a car , she still manages to cause an accident , kick out the windshield with her legs , grab a suitcase full of money ( plus some important documentation ) , climb through the rubble , land on her shot leg , and still succeed at running for safety . \n",
      "what a woman ! \n",
      "lena olin's performance is the only glimmer in this dismal film . \n",
      "anabella sciorra is wasted in her role as romeo's wife . \n",
      "there is little insight into her character . \n",
      "she's depressed , she makes obvious references , she mopes around the house . \n",
      "juliette lewis , as romeo's girlfriend , is treated with the same cliche attitudes , although ms . lewis' portrayal certainly didn't improve it . \n",
      "both women were anything but sexy or attractive . \n",
      "poorly developed characters aside , the screenplay also suffers from several logistical problems . \n",
      "it is so discouraging to watch a film and want to shout at the main character ( not ) to do something . \n",
      "for example , jack and his friends attend a funeral to hang in the background to scope-out the mob scene . \n",
      "fine . \n",
      "jack spots the big boss with his goons by the gravesite . \n",
      "fine . \n",
      "what does jack proceed to do ? \n",
      "he brushes his friends off by telling them he isn't feeling well , then strolls over to the boss . \n",
      "why ? \n",
      "the boss had all ready threatened him ; falcone simply takes the opportunity to issue more threats by ordering his goons to take off some of jack's toes by the gravesite . \n",
      "i guess they weren't worried about any federal agents lingering around after the funeral . . . . \n",
      "or here's another : demarkov set-up her own death by cutting off her arm with a circular saw . \n",
      "she proceeded to set the place on fire . \n",
      "wouldn't the flames burn off the fingerprints ? \n",
      "aren't dental records more important ? \n",
      "as bright and resourceful as she was supposed to be , couldn't she come up with a better plot ? \n",
      " ( and it took her no time at all to get a good-fitting , functional prosthesis . ) \n",
      "lack of attention to detail certainly adds up in a film . \n",
      "this film doesn't even add up the large details . \n",
      "there is little or no consistency in the story-line . \n",
      "not much makes sense . \n",
      "the direction lacks cohesion , surprising from a director whose previous credits are impeccable . \n",
      "the moods shift , the styles shift , and no one can seem to decide if it is a serious film or satire of one . \n",
      "so while it certainly isn't reservoir dogs , it certainly isn't diva . \n",
      "there's plenty more to tear apart in this film . \n",
      "my advice to someone who hasn't seen it to to wait until it comes on video . \n",
      "there are some quotable lines that would provide a campy evening if not taken seriously . \n",
      "it's not a boring film , just not a good one . \n",
      "or an intelligent one . \n",
      "\n"
     ]
    }
   ],
   "source": [
    "# Removing hyperlinks\n",
    "re.sub(r'https?:\\/\\/.*[\\r\\n]*', '', negative_review)\n",
    "\n",
    "# Remove newlines\n",
    "re.sub('\\n', '', negative_review)\n",
    "print(negative_review)"
   ]
  },
  {
   "cell_type": "code",
   "execution_count": 44,
   "metadata": {},
   "outputs": [
    {
     "name": "stdout",
     "output_type": "stream",
     "text": [
      "\n",
      "Tokenized string:\n",
      "['romeo', 'is', 'bleeding', 'wants', 'to', 'carry', 'the', 'unusual', 'flavor', 'of', 'reservoir', 'dogs', 'or', 'bad', 'lieutenant', '.', 'with', 'director', 'peter', 'medak', ',', 'whose', 'previous', 'credits', 'include', 'the', 'good', 'films', 'let', 'him', 'have', 'it', 'and', 'the', 'krays', ',', 'and', 'top-notch', 'character', 'actors', 'gary', 'oldman', 'and', 'lena', 'olin', ',', 'they', 'seemed', 'likely', 'to', 'be', 'a', 'successful', 'combination', '.', 'those', 'mentioned', 'films', ',', 'however', ',', 'brought', 'something', 'to', 'the', 'screen', 'that', 'romeo', 'is', 'bleeding', 'did', 'not', ':', 'a', 'solid', ',', 'well-written', 'screenplay', '.', 'call', 'me', 'cynical', ',', 'but', 'the', 'jobs', 'of', 'writer', 'and', 'producer', \"don't\", 'seem', 'to', 'mix', 'well', '.', 'gary', 'oldman', 'plays', 'jack', 'grimaldi', ',', 'a', 'good', 'cop', 'turned', 'bad', ',', 'selling', 'information', 'to', 'the', 'mob', 'and', 'cheating', 'on', 'his', 'wife', '.', 'his', 'cheating', 'is', 'obvious', 'enough', 'to', 'obtain', 'his', 'nickname', ',', 'although', 'the', 'name', \"doesn't\", 'provide', 'any', 'insight', 'or', 'analogy', 'to', 'the', 'shakespearean', 'character', '.', 'jack', 'has', 'become', 'addicted', 'to', '\"', 'feeding', 'the', 'hole', '\"', ',', 'a', 'hole', 'in', 'the', 'ground', 'where', 'he', 'stores', 'his', 'payoff', 'money', '.', 'when', 'he', 'realizes', 'his', 'colleagues', 'are', 'being', 'shot', ',', 'he', 'feebly', 'attempts', 'to', 'get', 'out', '.', 'gary', \"oldman's\", 'performance', 'is', 'disappointingly', 'weak', ';', 'he', 'seems', 'nearly', 'bored', '.', 'in', 'the', 'process', ',', 'he', 'also', 'gets', 'tangled-up', 'with', 'mona', 'demarkov', ',', 'a', 'russian', 'mobsterette', 'who', 'wants', 'to', 'take', 'over', 'the', 'territory', 'from', 'top', 'boss', 'falcone', ',', 'played', 'adequately', 'by', 'roy', 'scheider', '.', 'demarkov', ',', 'played', 'by', 'lena', 'olin', ',', 'is', 'a', 'tough', 'but', 'tremendously', 'sexy', 'woman', 'with', 'seemingly', 'no', 'problems', 'maneuvering', 'within', 'the', 'mob', 'world', '.', 'this', 'character', 'is', 'combination', 'of', 'both', 'linda', 'hamilton', 'and', 'arnold', 'schwarznegger', 'from', 'terminator', '2', '.', 'i', \"can't\", 'remember', 'seeing', 'a', 'character', 'quite', 'like', 'her', '.', 'after', 'being', 'shot', ',', 'handcuffed', ',', 'and', 'thrown', 'in', 'the', 'back', 'seat', 'of', 'a', 'car', ',', 'she', 'still', 'manages', 'to', 'cause', 'an', 'accident', ',', 'kick', 'out', 'the', 'windshield', 'with', 'her', 'legs', ',', 'grab', 'a', 'suitcase', 'full', 'of', 'money', '(', 'plus', 'some', 'important', 'documentation', ')', ',', 'climb', 'through', 'the', 'rubble', ',', 'land', 'on', 'her', 'shot', 'leg', ',', 'and', 'still', 'succeed', 'at', 'running', 'for', 'safety', '.', 'what', 'a', 'woman', '!', 'lena', \"olin's\", 'performance', 'is', 'the', 'only', 'glimmer', 'in', 'this', 'dismal', 'film', '.', 'anabella', 'sciorra', 'is', 'wasted', 'in', 'her', 'role', 'as', \"romeo's\", 'wife', '.', 'there', 'is', 'little', 'insight', 'into', 'her', 'character', '.', \"she's\", 'depressed', ',', 'she', 'makes', 'obvious', 'references', ',', 'she', 'mopes', 'around', 'the', 'house', '.', 'juliette', 'lewis', ',', 'as', \"romeo's\", 'girlfriend', ',', 'is', 'treated', 'with', 'the', 'same', 'cliche', 'attitudes', ',', 'although', 'ms', '.', 'lewis', \"'\", 'portrayal', 'certainly', \"didn't\", 'improve', 'it', '.', 'both', 'women', 'were', 'anything', 'but', 'sexy', 'or', 'attractive', '.', 'poorly', 'developed', 'characters', 'aside', ',', 'the', 'screenplay', 'also', 'suffers', 'from', 'several', 'logistical', 'problems', '.', 'it', 'is', 'so', 'discouraging', 'to', 'watch', 'a', 'film', 'and', 'want', 'to', 'shout', 'at', 'the', 'main', 'character', '(', 'not', ')', 'to', 'do', 'something', '.', 'for', 'example', ',', 'jack', 'and', 'his', 'friends', 'attend', 'a', 'funeral', 'to', 'hang', 'in', 'the', 'background', 'to', 'scope-out', 'the', 'mob', 'scene', '.', 'fine', '.', 'jack', 'spots', 'the', 'big', 'boss', 'with', 'his', 'goons', 'by', 'the', 'gravesite', '.', 'fine', '.', 'what', 'does', 'jack', 'proceed', 'to', 'do', '?', 'he', 'brushes', 'his', 'friends', 'off', 'by', 'telling', 'them', 'he', \"isn't\", 'feeling', 'well', ',', 'then', 'strolls', 'over', 'to', 'the', 'boss', '.', 'why', '?', 'the', 'boss', 'had', 'all', 'ready', 'threatened', 'him', ';', 'falcone', 'simply', 'takes', 'the', 'opportunity', 'to', 'issue', 'more', 'threats', 'by', 'ordering', 'his', 'goons', 'to', 'take', 'off', 'some', 'of', \"jack's\", 'toes', 'by', 'the', 'gravesite', '.', 'i', 'guess', 'they', \"weren't\", 'worried', 'about', 'any', 'federal', 'agents', 'lingering', 'around', 'after', 'the', 'funeral', '. . . .', 'or', \"here's\", 'another', ':', 'demarkov', 'set-up', 'her', 'own', 'death', 'by', 'cutting', 'off', 'her', 'arm', 'with', 'a', 'circular', 'saw', '.', 'she', 'proceeded', 'to', 'set', 'the', 'place', 'on', 'fire', '.', \"wouldn't\", 'the', 'flames', 'burn', 'off', 'the', 'fingerprints', '?', \"aren't\", 'dental', 'records', 'more', 'important', '?', 'as', 'bright', 'and', 'resourceful', 'as', 'she', 'was', 'supposed', 'to', 'be', ',', \"couldn't\", 'she', 'come', 'up', 'with', 'a', 'better', 'plot', '?', '(', 'and', 'it', 'took', 'her', 'no', 'time', 'at', 'all', 'to', 'get', 'a', 'good-fitting', ',', 'functional', 'prosthesis', '.', ')', 'lack', 'of', 'attention', 'to', 'detail', 'certainly', 'adds', 'up', 'in', 'a', 'film', '.', 'this', 'film', \"doesn't\", 'even', 'add', 'up', 'the', 'large', 'details', '.', 'there', 'is', 'little', 'or', 'no', 'consistency', 'in', 'the', 'story-line', '.', 'not', 'much', 'makes', 'sense', '.', 'the', 'direction', 'lacks', 'cohesion', ',', 'surprising', 'from', 'a', 'director', 'whose', 'previous', 'credits', 'are', 'impeccable', '.', 'the', 'moods', 'shift', ',', 'the', 'styles', 'shift', ',', 'and', 'no', 'one', 'can', 'seem', 'to', 'decide', 'if', 'it', 'is', 'a', 'serious', 'film', 'or', 'satire', 'of', 'one', '.', 'so', 'while', 'it', 'certainly', \"isn't\", 'reservoir', 'dogs', ',', 'it', 'certainly', \"isn't\", 'diva', '.', \"there's\", 'plenty', 'more', 'to', 'tear', 'apart', 'in', 'this', 'film', '.', 'my', 'advice', 'to', 'someone', 'who', \"hasn't\", 'seen', 'it', 'to', 'to', 'wait', 'until', 'it', 'comes', 'on', 'video', '.', 'there', 'are', 'some', 'quotable', 'lines', 'that', 'would', 'provide', 'a', 'campy', 'evening', 'if', 'not', 'taken', 'seriously', '.', \"it's\", 'not', 'a', 'boring', 'film', ',', 'just', 'not', 'a', 'good', 'one', '.', 'or', 'an', 'intelligent', 'one', '.']\n"
     ]
    }
   ],
   "source": [
    "#Tokenizing the string\n",
    "# instantiate tokenizer class\n",
    "tokenizer = TweetTokenizer(preserve_case=False)\n",
    "# tokenize Reviews\n",
    "review_tokens = tokenizer.tokenize(negative_review)\n",
    "\n",
    "print()\n",
    "print('Tokenized string:')\n",
    "print(review_tokens)"
   ]
  },
  {
   "cell_type": "code",
   "execution_count": 45,
   "metadata": {},
   "outputs": [
    {
     "name": "stdout",
     "output_type": "stream",
     "text": [
      "Stop words\n",
      "\n",
      "['i', 'me', 'my', 'myself', 'we', 'our', 'ours', 'ourselves', 'you', \"you're\", \"you've\", \"you'll\", \"you'd\", 'your', 'yours', 'yourself', 'yourselves', 'he', 'him', 'his', 'himself', 'she', \"she's\", 'her', 'hers', 'herself', 'it', \"it's\", 'its', 'itself', 'they', 'them', 'their', 'theirs', 'themselves', 'what', 'which', 'who', 'whom', 'this', 'that', \"that'll\", 'these', 'those', 'am', 'is', 'are', 'was', 'were', 'be', 'been', 'being', 'have', 'has', 'had', 'having', 'do', 'does', 'did', 'doing', 'a', 'an', 'the', 'and', 'but', 'if', 'or', 'because', 'as', 'until', 'while', 'of', 'at', 'by', 'for', 'with', 'about', 'against', 'between', 'into', 'through', 'during', 'before', 'after', 'above', 'below', 'to', 'from', 'up', 'down', 'in', 'out', 'on', 'off', 'over', 'under', 'again', 'further', 'then', 'once', 'here', 'there', 'when', 'where', 'why', 'how', 'all', 'any', 'both', 'each', 'few', 'more', 'most', 'other', 'some', 'such', 'no', 'nor', 'not', 'only', 'own', 'same', 'so', 'than', 'too', 'very', 's', 't', 'can', 'will', 'just', 'don', \"don't\", 'should', \"should've\", 'now', 'd', 'll', 'm', 'o', 're', 've', 'y', 'ain', 'aren', \"aren't\", 'couldn', \"couldn't\", 'didn', \"didn't\", 'doesn', \"doesn't\", 'hadn', \"hadn't\", 'hasn', \"hasn't\", 'haven', \"haven't\", 'isn', \"isn't\", 'ma', 'mightn', \"mightn't\", 'mustn', \"mustn't\", 'needn', \"needn't\", 'shan', \"shan't\", 'shouldn', \"shouldn't\", 'wasn', \"wasn't\", 'weren', \"weren't\", 'won', \"won't\", 'wouldn', \"wouldn't\"]\n",
      "\n",
      "Punctuation\n",
      "\n",
      "!\"#$%&'()*+,-./:;<=>?@[\\]^_`{|}~\n"
     ]
    }
   ],
   "source": [
    "stopwords_english = stopwords.words('english') \n",
    "print('Stop words\\n')\n",
    "print(stopwords_english)\n",
    "print('\\nPunctuation\\n')\n",
    "print(string.punctuation)"
   ]
  },
  {
   "cell_type": "code",
   "execution_count": 46,
   "metadata": {},
   "outputs": [
    {
     "name": "stdout",
     "output_type": "stream",
     "text": [
      "removed stop words and punctuation:\n",
      "['romeo', 'bleeding', 'wants', 'carry', 'unusual', 'flavor', 'reservoir', 'dogs', 'bad', 'lieutenant', 'director', 'peter', 'medak', 'whose', 'previous', 'credits', 'include', 'good', 'films', 'let', 'krays', 'top-notch', 'character', 'actors', 'gary', 'oldman', 'lena', 'olin', 'seemed', 'likely', 'successful', 'combination', 'mentioned', 'films', 'however', 'brought', 'something', 'screen', 'romeo', 'bleeding', 'solid', 'well-written', 'screenplay', 'call', 'cynical', 'jobs', 'writer', 'producer', 'seem', 'mix', 'well', 'gary', 'oldman', 'plays', 'jack', 'grimaldi', 'good', 'cop', 'turned', 'bad', 'selling', 'information', 'mob', 'cheating', 'wife', 'cheating', 'obvious', 'enough', 'obtain', 'nickname', 'although', 'name', 'provide', 'insight', 'analogy', 'shakespearean', 'character', 'jack', 'become', 'addicted', 'feeding', 'hole', 'hole', 'ground', 'stores', 'payoff', 'money', 'realizes', 'colleagues', 'shot', 'feebly', 'attempts', 'get', 'gary', \"oldman's\", 'performance', 'disappointingly', 'weak', 'seems', 'nearly', 'bored', 'process', 'also', 'gets', 'tangled-up', 'mona', 'demarkov', 'russian', 'mobsterette', 'wants', 'take', 'territory', 'top', 'boss', 'falcone', 'played', 'adequately', 'roy', 'scheider', 'demarkov', 'played', 'lena', 'olin', 'tough', 'tremendously', 'sexy', 'woman', 'seemingly', 'problems', 'maneuvering', 'within', 'mob', 'world', 'character', 'combination', 'linda', 'hamilton', 'arnold', 'schwarznegger', 'terminator', '2', \"can't\", 'remember', 'seeing', 'character', 'quite', 'like', 'shot', 'handcuffed', 'thrown', 'back', 'seat', 'car', 'still', 'manages', 'cause', 'accident', 'kick', 'windshield', 'legs', 'grab', 'suitcase', 'full', 'money', 'plus', 'important', 'documentation', 'climb', 'rubble', 'land', 'shot', 'leg', 'still', 'succeed', 'running', 'safety', 'woman', 'lena', \"olin's\", 'performance', 'glimmer', 'dismal', 'film', 'anabella', 'sciorra', 'wasted', 'role', \"romeo's\", 'wife', 'little', 'insight', 'character', 'depressed', 'makes', 'obvious', 'references', 'mopes', 'around', 'house', 'juliette', 'lewis', \"romeo's\", 'girlfriend', 'treated', 'cliche', 'attitudes', 'although', 'ms', 'lewis', 'portrayal', 'certainly', 'improve', 'women', 'anything', 'sexy', 'attractive', 'poorly', 'developed', 'characters', 'aside', 'screenplay', 'also', 'suffers', 'several', 'logistical', 'problems', 'discouraging', 'watch', 'film', 'want', 'shout', 'main', 'character', 'something', 'example', 'jack', 'friends', 'attend', 'funeral', 'hang', 'background', 'scope-out', 'mob', 'scene', 'fine', 'jack', 'spots', 'big', 'boss', 'goons', 'gravesite', 'fine', 'jack', 'proceed', 'brushes', 'friends', 'telling', 'feeling', 'well', 'strolls', 'boss', 'boss', 'ready', 'threatened', 'falcone', 'simply', 'takes', 'opportunity', 'issue', 'threats', 'ordering', 'goons', 'take', \"jack's\", 'toes', 'gravesite', 'guess', 'worried', 'federal', 'agents', 'lingering', 'around', 'funeral', '. . . .', \"here's\", 'another', 'demarkov', 'set-up', 'death', 'cutting', 'arm', 'circular', 'saw', 'proceeded', 'set', 'place', 'fire', 'flames', 'burn', 'fingerprints', 'dental', 'records', 'important', 'bright', 'resourceful', 'supposed', 'come', 'better', 'plot', 'took', 'time', 'get', 'good-fitting', 'functional', 'prosthesis', 'lack', 'attention', 'detail', 'certainly', 'adds', 'film', 'film', 'even', 'add', 'large', 'details', 'little', 'consistency', 'story-line', 'much', 'makes', 'sense', 'direction', 'lacks', 'cohesion', 'surprising', 'director', 'whose', 'previous', 'credits', 'impeccable', 'moods', 'shift', 'styles', 'shift', 'one', 'seem', 'decide', 'serious', 'film', 'satire', 'one', 'certainly', 'reservoir', 'dogs', 'certainly', 'diva', \"there's\", 'plenty', 'tear', 'apart', 'film', 'advice', 'someone', 'seen', 'wait', 'comes', 'video', 'quotable', 'lines', 'would', 'provide', 'campy', 'evening', 'taken', 'seriously', 'boring', 'film', 'good', 'one', 'intelligent', 'one']\n"
     ]
    }
   ],
   "source": [
    "review=[]\n",
    "\n",
    "for word in review_tokens:  # Go through every word in your tokens list\n",
    "    if (word not in stopwords_english and  word not in string.punctuation): \n",
    "        review.append(word)\n",
    "\n",
    "print('removed stop words and punctuation:')\n",
    "print(review)"
   ]
  },
  {
   "cell_type": "code",
   "execution_count": 47,
   "metadata": {},
   "outputs": [
    {
     "name": "stdout",
     "output_type": "stream",
     "text": [
      "stemmed words:\n",
      "['romeo', 'bleed', 'want', 'carri', 'unusu', 'flavor', 'reservoir', 'dog', 'bad', 'lieuten', 'director', 'peter', 'medak', 'whose', 'previou', 'credit', 'includ', 'good', 'film', 'let', 'kray', 'top-notch', 'charact', 'actor', 'gari', 'oldman', 'lena', 'olin', 'seem', 'like', 'success', 'combin', 'mention', 'film', 'howev', 'brought', 'someth', 'screen', 'romeo', 'bleed', 'solid', 'well-written', 'screenplay', 'call', 'cynic', 'job', 'writer', 'produc', 'seem', 'mix', 'well', 'gari', 'oldman', 'play', 'jack', 'grimaldi', 'good', 'cop', 'turn', 'bad', 'sell', 'inform', 'mob', 'cheat', 'wife', 'cheat', 'obviou', 'enough', 'obtain', 'nicknam', 'although', 'name', 'provid', 'insight', 'analog', 'shakespearean', 'charact', 'jack', 'becom', 'addict', 'feed', 'hole', 'hole', 'ground', 'store', 'payoff', 'money', 'realiz', 'colleagu', 'shot', 'feebli', 'attempt', 'get', 'gari', \"oldman'\", 'perform', 'disappointingli', 'weak', 'seem', 'nearli', 'bore', 'process', 'also', 'get', 'tangled-up', 'mona', 'demarkov', 'russian', 'mobsterett', 'want', 'take', 'territori', 'top', 'boss', 'falcon', 'play', 'adequ', 'roy', 'scheider', 'demarkov', 'play', 'lena', 'olin', 'tough', 'tremend', 'sexi', 'woman', 'seemingli', 'problem', 'maneuv', 'within', 'mob', 'world', 'charact', 'combin', 'linda', 'hamilton', 'arnold', 'schwarznegg', 'termin', '2', \"can't\", 'rememb', 'see', 'charact', 'quit', 'like', 'shot', 'handcuf', 'thrown', 'back', 'seat', 'car', 'still', 'manag', 'caus', 'accid', 'kick', 'windshield', 'leg', 'grab', 'suitcas', 'full', 'money', 'plu', 'import', 'document', 'climb', 'rubbl', 'land', 'shot', 'leg', 'still', 'succeed', 'run', 'safeti', 'woman', 'lena', \"olin'\", 'perform', 'glimmer', 'dismal', 'film', 'anabella', 'sciorra', 'wast', 'role', \"romeo'\", 'wife', 'littl', 'insight', 'charact', 'depress', 'make', 'obviou', 'refer', 'mope', 'around', 'hous', 'juliett', 'lewi', \"romeo'\", 'girlfriend', 'treat', 'clich', 'attitud', 'although', 'ms', 'lewi', 'portray', 'certainli', 'improv', 'women', 'anyth', 'sexi', 'attract', 'poorli', 'develop', 'charact', 'asid', 'screenplay', 'also', 'suffer', 'sever', 'logist', 'problem', 'discourag', 'watch', 'film', 'want', 'shout', 'main', 'charact', 'someth', 'exampl', 'jack', 'friend', 'attend', 'funer', 'hang', 'background', 'scope-out', 'mob', 'scene', 'fine', 'jack', 'spot', 'big', 'boss', 'goon', 'gravesit', 'fine', 'jack', 'proceed', 'brush', 'friend', 'tell', 'feel', 'well', 'stroll', 'boss', 'boss', 'readi', 'threaten', 'falcon', 'simpli', 'take', 'opportun', 'issu', 'threat', 'order', 'goon', 'take', \"jack'\", 'toe', 'gravesit', 'guess', 'worri', 'feder', 'agent', 'linger', 'around', 'funer', '. . . .', \"here'\", 'anoth', 'demarkov', 'set-up', 'death', 'cut', 'arm', 'circular', 'saw', 'proceed', 'set', 'place', 'fire', 'flame', 'burn', 'fingerprint', 'dental', 'record', 'import', 'bright', 'resourc', 'suppos', 'come', 'better', 'plot', 'took', 'time', 'get', 'good-fit', 'function', 'prosthesi', 'lack', 'attent', 'detail', 'certainli', 'add', 'film', 'film', 'even', 'add', 'larg', 'detail', 'littl', 'consist', 'story-lin', 'much', 'make', 'sens', 'direct', 'lack', 'cohes', 'surpris', 'director', 'whose', 'previou', 'credit', 'impecc', 'mood', 'shift', 'style', 'shift', 'one', 'seem', 'decid', 'seriou', 'film', 'satir', 'one', 'certainli', 'reservoir', 'dog', 'certainli', 'diva', \"there'\", 'plenti', 'tear', 'apart', 'film', 'advic', 'someon', 'seen', 'wait', 'come', 'video', 'quotabl', 'line', 'would', 'provid', 'campi', 'even', 'taken', 'serious', 'bore', 'film', 'good', 'one', 'intellig', 'one']\n"
     ]
    }
   ],
   "source": [
    "#stemming\n",
    "# Instantiate stemming class\n",
    "stemmer = PorterStemmer() \n",
    "# Create an empty list to store the stems\n",
    "review_stem = [] \n",
    "for word in review:\n",
    "    stem_word = stemmer.stem(word)  # stemming word\n",
    "    review_stem.append(stem_word)  # append to the list\n",
    "print('stemmed words:')\n",
    "print(review_stem)"
   ]
  },
  {
   "cell_type": "code",
   "execution_count": null,
   "metadata": {},
   "outputs": [],
   "source": []
  }
 ],
 "metadata": {
  "kernelspec": {
   "display_name": "Python 3",
   "language": "python",
   "name": "python3"
  },
  "language_info": {
   "codemirror_mode": {
    "name": "ipython",
    "version": 3
   },
   "file_extension": ".py",
   "mimetype": "text/x-python",
   "name": "python",
   "nbconvert_exporter": "python",
   "pygments_lexer": "ipython3",
   "version": "3.7.8"
  }
 },
 "nbformat": 4,
 "nbformat_minor": 4
}
