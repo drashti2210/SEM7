{
 "cells": [
  {
   "cell_type": "code",
   "execution_count": 50,
   "metadata": {},
   "outputs": [],
   "source": [
    "import numpy as np\n",
    "from sklearn import preprocessing\n",
    "from sklearn.preprocessing import LabelEncoder,OneHotEncoder\n",
    "from sklearn.naive_bayes import GaussianNB, MultinomialNB"
   ]
  },
  {
   "cell_type": "code",
   "execution_count": 51,
   "metadata": {},
   "outputs": [
    {
     "name": "stdout",
     "output_type": "stream",
     "text": [
      "\n",
      "Data :\n",
      "    Outlook Temp Wind  Humidity  Class\n",
      "0        R    H    F         1      0\n",
      "1        R    H    T         2      0\n",
      "2        O    H    F         1      1\n",
      "3        R    M    F         1      1\n",
      "4        S    C    F         1      1\n",
      "5        O    C    T         0      0\n",
      "6        O    C    T         1      1\n",
      "7        R    M    F         1      0\n",
      "8        O    C    F         0      1\n",
      "9        S    M    F         2      1\n",
      "10       R    C    T         2      0\n",
      "11       O    M    T         0      1\n",
      "12       O    H    F         1      1\n",
      "13       S    M    T         1      0\n"
     ]
    }
   ],
   "source": [
    "#Reading CSV data\n",
    "import pandas as pd\n",
    "datasets = pd.read_csv('Dataset3.csv') \n",
    "print(\"\\nData :\\n\",datasets)"
   ]
  },
  {
   "cell_type": "code",
   "execution_count": 52,
   "metadata": {},
   "outputs": [
    {
     "name": "stdout",
     "output_type": "stream",
     "text": [
      "\n",
      "\n",
      "Input : \n",
      " [['R' 'H' 'F' 1]\n",
      " ['R' 'H' 'T' 2]\n",
      " ['O' 'H' 'F' 1]\n",
      " ['R' 'M' 'F' 1]\n",
      " ['S' 'C' 'F' 1]\n",
      " ['O' 'C' 'T' 0]\n",
      " ['O' 'C' 'T' 1]\n",
      " ['R' 'M' 'F' 1]\n",
      " ['O' 'C' 'F' 0]\n",
      " ['S' 'M' 'F' 2]\n",
      " ['R' 'C' 'T' 2]\n",
      " ['O' 'M' 'T' 0]\n",
      " ['O' 'H' 'F' 1]\n",
      " ['S' 'M' 'T' 1]]\n",
      "\n",
      "\n",
      "Output: \n",
      " [0 0 1 1 1 0 1 0 1 1 0 1 1 0]\n"
     ]
    }
   ],
   "source": [
    "#Partitioning Data\n",
    "X = datasets.iloc[:, :-1].values \n",
    "Y = datasets.iloc[:, -1].values \n",
    "\n",
    "print(\"\\n\\nInput : \\n\", X) \n",
    "print(\"\\n\\nOutput: \\n\", Y) "
   ]
  },
  {
   "cell_type": "code",
   "execution_count": 53,
   "metadata": {},
   "outputs": [
    {
     "name": "stdout",
     "output_type": "stream",
     "text": [
      "[1 1 0 1 2 0 0 1 0 2 1 0 0 2]\n"
     ]
    }
   ],
   "source": [
    "#Label Encoding on all columns except last\n",
    "le = LabelEncoder()\n",
    "Outlook_encoded=le.fit_transform(X[ : ,0])\n",
    "X[ : ,0]=Outlook_encoded\n",
    "print(Outlook_encoded)"
   ]
  },
  {
   "cell_type": "code",
   "execution_count": 54,
   "metadata": {},
   "outputs": [
    {
     "name": "stdout",
     "output_type": "stream",
     "text": [
      "[1 1 1 2 0 0 0 2 0 2 0 2 1 2]\n"
     ]
    }
   ],
   "source": [
    "Temp_encoded=le.fit_transform(X[ : ,1])\n",
    "X[ : ,1]=Temp_encoded\n",
    "print(Temp_encoded)"
   ]
  },
  {
   "cell_type": "code",
   "execution_count": 55,
   "metadata": {},
   "outputs": [
    {
     "name": "stdout",
     "output_type": "stream",
     "text": [
      "[0 1 0 0 0 1 1 0 0 0 1 1 0 1]\n"
     ]
    }
   ],
   "source": [
    "Wind_encoded=le.fit_transform(X[ : ,2])\n",
    "X[ : ,2]=Wind_encoded\n",
    "print(Wind_encoded)"
   ]
  },
  {
   "cell_type": "code",
   "execution_count": 56,
   "metadata": {},
   "outputs": [
    {
     "name": "stdout",
     "output_type": "stream",
     "text": [
      "Features: ((1, 1, 0, 1), (1, 1, 1, 2), (0, 1, 0, 1), (1, 2, 0, 1), (2, 0, 0, 1), (0, 0, 1, 0), (0, 0, 1, 1), (1, 2, 0, 1), (0, 0, 0, 0), (2, 2, 0, 2), (1, 0, 1, 2), (0, 2, 1, 0), (0, 1, 0, 1), (2, 2, 1, 1))\n"
     ]
    }
   ],
   "source": [
    "#Combining Features\n",
    "features=tuple(zip(Outlook_encoded,Temp_encoded,Wind_encoded,X[ : ,3]))\n",
    "print(\"Features:\",features)"
   ]
  },
  {
   "cell_type": "code",
   "execution_count": 57,
   "metadata": {},
   "outputs": [
    {
     "data": {
      "text/plain": [
       "MultinomialNB()"
      ]
     },
     "execution_count": 57,
     "metadata": {},
     "output_type": "execute_result"
    }
   ],
   "source": [
    "model=MultinomialNB()\n",
    "model.fit(features,Y)"
   ]
  },
  {
   "cell_type": "code",
   "execution_count": 58,
   "metadata": {},
   "outputs": [
    {
     "name": "stdout",
     "output_type": "stream",
     "text": [
      "Predicted Value: [1]\n"
     ]
    }
   ],
   "source": [
    "#What will be the value of Play, if Outlook is ’Rainy’, Temperature is ’Mild’, Humidity =’Normal’, and Wind = ’False’?\n",
    "predicted= model.predict([[1,2,0,1]]) #Rainy=1, Mild=2, False=0, Normal=1\n",
    "print(\"Predicted Value:\", predicted)"
   ]
  },
  {
   "cell_type": "code",
   "execution_count": 59,
   "metadata": {},
   "outputs": [
    {
     "name": "stdout",
     "output_type": "stream",
     "text": [
      "Predicted Value: [0]\n"
     ]
    }
   ],
   "source": [
    "#What will be the value of Play, if Outlook is ’Sunny’, Temeprature is ’Cool’, Humidity =’High’, and Wind = ’True’?\n",
    "predicted= model.predict([[2,0,1,2]]) #Sunny=2, Cool=0, True=1, High=2\n",
    "print(\"Predicted Value:\", predicted)"
   ]
  },
  {
   "cell_type": "code",
   "execution_count": 60,
   "metadata": {},
   "outputs": [],
   "source": [
    "#Finding accuracy \n",
    "from sklearn.model_selection import train_test_split\n",
    "data_train, data_test, target_train, target_test = train_test_split(X,\n",
    "                        Y, test_size = 0.05, random_state = 137)"
   ]
  },
  {
   "cell_type": "code",
   "execution_count": 62,
   "metadata": {},
   "outputs": [],
   "source": [
    "gnb = GaussianNB()\n",
    "\n",
    "#Train the model using the training sets\n",
    "gnb.fit(data_train, target_train)\n",
    "\n",
    "#Predict the response for test dataset\n",
    "target_pred = gnb.predict(data_test)"
   ]
  },
  {
   "cell_type": "code",
   "execution_count": 63,
   "metadata": {},
   "outputs": [
    {
     "name": "stdout",
     "output_type": "stream",
     "text": [
      "Accuracy: 1.0\n"
     ]
    }
   ],
   "source": [
    "from sklearn import metrics\n",
    "print(\"Accuracy:\",metrics.accuracy_score(target_test, target_pred))"
   ]
  },
  {
   "cell_type": "code",
   "execution_count": 64,
   "metadata": {},
   "outputs": [
    {
     "name": "stdout",
     "output_type": "stream",
     "text": [
      "precision: 1.0\n",
      "recall: 1.0\n"
     ]
    }
   ],
   "source": [
    "#Precision and Recall\n",
    "from sklearn.metrics import precision_score\n",
    "from sklearn.metrics import recall_score\n",
    "\n",
    "precision = precision_score(target_test, target_pred)\n",
    "recall = recall_score(target_test, target_pred)\n",
    "\n",
    "print('precision: {}'.format(precision))\n",
    "print('recall: {}'.format(recall))"
   ]
  },
  {
   "cell_type": "code",
   "execution_count": null,
   "metadata": {},
   "outputs": [],
   "source": []
  }
 ],
 "metadata": {
  "kernelspec": {
   "display_name": "Python 3",
   "language": "python",
   "name": "python3"
  },
  "language_info": {
   "codemirror_mode": {
    "name": "ipython",
    "version": 3
   },
   "file_extension": ".py",
   "mimetype": "text/x-python",
   "name": "python",
   "nbconvert_exporter": "python",
   "pygments_lexer": "ipython3",
   "version": "3.7.8"
  }
 },
 "nbformat": 4,
 "nbformat_minor": 4
}
