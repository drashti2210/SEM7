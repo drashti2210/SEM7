{
 "cells": [
  {
   "cell_type": "markdown",
   "metadata": {
    "colab_type": "text",
    "id": "jie6UpTRcP3s"
   },
   "source": [
    "Steps for Handling Categorical Data\n",
    "\n",
    "1. Import Libraries\n",
    "2. Load Data\n",
    "3. Seprate Input and Output attributes\n",
    "4. Convert the categorical data into numerical data"
   ]
  },
  {
   "cell_type": "code",
   "execution_count": 2,
   "metadata": {
    "colab": {
     "base_uri": "https://localhost:8080/",
     "height": 451
    },
    "colab_type": "code",
    "executionInfo": {
     "elapsed": 1421,
     "status": "ok",
     "timestamp": 1594649646018,
     "user": {
      "displayName": "Hariom Pandya",
      "photoUrl": "https://lh3.googleusercontent.com/a-/AOh14Gg8d7lqNqBxgfXVdhraKxXVYdefhGJQ6fR34vxZkw=s64",
      "userId": "14308869011554137018"
     },
     "user_tz": -330
    },
    "id": "zniC8WihcP3z",
    "outputId": "afe88dff-5579-4de4-a0ef-add61be3c3cc"
   },
   "outputs": [],
   "source": [
    "# Step 1: Import Libraries\n",
    "\n",
    "import numpy as np \n",
    "import pandas as pd\n",
    "from sklearn.preprocessing import LabelEncoder,OneHotEncoder\n",
    "\n",
    "# Step 2: Load Data\n",
    "        \n",
    "datasets = pd.read_csv('Exercise-CarData.csv') \n"
   ]
  },
  {
   "cell_type": "code",
   "execution_count": 3,
   "metadata": {},
   "outputs": [
    {
     "name": "stdout",
     "output_type": "stream",
     "text": [
      "    Unnamed: 0  Price   Age     KM FuelType   HP  MetColor  Automatic    CC  \\\n",
      "0            0  13500  23.0  46986   Diesel   90       1.0          0  2000   \n",
      "1            1  13750  23.0  72937   Diesel   90       1.0          0  2000   \n",
      "3            3  14950  26.0  48000   Diesel   90       0.0          0  2000   \n",
      "4            4  13750  30.0  38500   Diesel   90       0.0          0  2000   \n",
      "5            5  12950  32.0  61000   Diesel   90       0.0          0  2000   \n",
      "8            8  21500  27.0  19700   Petrol  192       0.0          0  1800   \n",
      "10          10  20950  25.0  31461   Petrol  192       0.0          0  1800   \n",
      "11          11  19950  22.0  43610   Petrol  192       0.0          0  1800   \n",
      "12          12  19600  25.0  32189   Petrol  192       0.0          0  1800   \n",
      "13          13  21500  31.0  23000   Petrol  192       1.0          0  1800   \n",
      "\n",
      "    Doors  Weight  \n",
      "0   three    1165  \n",
      "1       3    1165  \n",
      "3       3    1165  \n",
      "4       3    1170  \n",
      "5       3    1170  \n",
      "8       3    1185  \n",
      "10      3    1185  \n",
      "11      3    1185  \n",
      "12      3    1185  \n",
      "13      3    1185  \n"
     ]
    }
   ],
   "source": [
    "datasets=datasets.replace('??',np.nan)\n",
    "datasets=datasets.replace('????',np.nan)\n",
    "datasets=datasets.dropna()\n",
    "print(datasets.head(10))"
   ]
  },
  {
   "cell_type": "code",
   "execution_count": 4,
   "metadata": {
    "colab": {
     "base_uri": "https://localhost:8080/",
     "height": 330
    },
    "colab_type": "code",
    "executionInfo": {
     "elapsed": 1101,
     "status": "ok",
     "timestamp": 1594650226333,
     "user": {
      "displayName": "Hariom Pandya",
      "photoUrl": "https://lh3.googleusercontent.com/a-/AOh14Gg8d7lqNqBxgfXVdhraKxXVYdefhGJQ6fR34vxZkw=s64",
      "userId": "14308869011554137018"
     },
     "user_tz": -330
    },
    "id": "VQLSM3DrcP4V",
    "outputId": "9b552342-cd28-4771-b44c-d80dc6f5b8c1"
   },
   "outputs": [
    {
     "name": "stdout",
     "output_type": "stream",
     "text": [
      "\n",
      "\n",
      "Input : \n",
      " [[0 13500 23.0 ... 0 2000 'three']\n",
      " [1 13750 23.0 ... 0 2000 '3']\n",
      " [3 14950 26.0 ... 0 2000 '3']\n",
      " ...\n",
      " [1429 8950 78.0 ... 1 1300 '5']\n",
      " [1430 8450 80.0 ... 0 1300 '3']\n",
      " [1435 6950 76.0 ... 0 1600 '5']]\n",
      "\n",
      "\n",
      "Output: \n",
      " [1165 1165 1165 ... 1065 1015 1114]\n"
     ]
    }
   ],
   "source": [
    "# Step 3: Seprate Input and Output attributes\n",
    "\n",
    "# All rows, all columns except last \n",
    "X = datasets.iloc[:, :-1].values \n",
    "  \n",
    "# Only last column  \n",
    "Y = datasets.iloc[:, -1].values \n",
    "\n",
    "print(\"\\n\\nInput : \\n\", X) \n",
    "print(\"\\n\\nOutput: \\n\", Y) "
   ]
  },
  {
   "cell_type": "code",
   "execution_count": 5,
   "metadata": {
    "colab": {
     "base_uri": "https://localhost:8080/",
     "height": 260
    },
    "colab_type": "code",
    "executionInfo": {
     "elapsed": 1061,
     "status": "ok",
     "timestamp": 1594650236375,
     "user": {
      "displayName": "Hariom Pandya",
      "photoUrl": "https://lh3.googleusercontent.com/a-/AOh14Gg8d7lqNqBxgfXVdhraKxXVYdefhGJQ6fR34vxZkw=s64",
      "userId": "14308869011554137018"
     },
     "user_tz": -330
    },
    "id": "LVbYPUjpcP42",
    "outputId": "5e9ab44e-790f-47a6-f89a-105ed7d0ad28"
   },
   "outputs": [
    {
     "name": "stdout",
     "output_type": "stream",
     "text": [
      "\n",
      "\n",
      "Input : \n",
      " [[0 13500 23.0 ... 0 2000 'three']\n",
      " [1 13750 23.0 ... 0 2000 '3']\n",
      " [2 14950 26.0 ... 0 2000 '3']\n",
      " ...\n",
      " [1093 8950 78.0 ... 1 1300 '5']\n",
      " [1094 8450 80.0 ... 0 1300 '3']\n",
      " [1095 6950 76.0 ... 0 1600 '5']]\n"
     ]
    }
   ],
   "source": [
    "# Step 4a: Apply LabelEncoder on the data \n",
    "#          to convert country names into numeric values\n",
    "\n",
    "le = LabelEncoder()\n",
    "X[ : ,0] = le.fit_transform(X[ : ,0])\n",
    "print(\"\\n\\nInput : \\n\", X) "
   ]
  },
  {
   "cell_type": "code",
   "execution_count": 6,
   "metadata": {
    "colab": {
     "base_uri": "https://localhost:8080/",
     "height": 538
    },
    "colab_type": "code",
    "executionInfo": {
     "elapsed": 1327,
     "status": "ok",
     "timestamp": 1594650436047,
     "user": {
      "displayName": "Hariom Pandya",
      "photoUrl": "https://lh3.googleusercontent.com/a-/AOh14Gg8d7lqNqBxgfXVdhraKxXVYdefhGJQ6fR34vxZkw=s64",
      "userId": "14308869011554137018"
     },
     "user_tz": -330
    },
    "id": "k1BxFJcEcP5f",
    "outputId": "525bb9f2-23a9-4c21-ab8c-510d3988104b",
    "scrolled": false
   },
   "outputs": [
    {
     "name": "stdout",
     "output_type": "stream",
     "text": [
      "\n",
      "\n",
      "Dummy :\n",
      "       CNG  Diesel  Petrol\n",
      "0       0       1       0\n",
      "1       0       1       0\n",
      "3       0       1       0\n",
      "4       0       1       0\n",
      "5       0       1       0\n",
      "...   ...     ...     ...\n",
      "1423    0       0       1\n",
      "1424    0       0       1\n",
      "1429    0       0       1\n",
      "1430    0       0       1\n",
      "1435    0       0       1\n",
      "\n",
      "[1096 rows x 3 columns]\n",
      "\n",
      "\n",
      "Final Data :\n",
      "       CNG  Diesel  Petrol  Unnamed: 0  Price   Age     KM   HP  MetColor  \\\n",
      "0       0       1       0           0  13500  23.0  46986   90       1.0   \n",
      "1       0       1       0           1  13750  23.0  72937   90       1.0   \n",
      "3       0       1       0           3  14950  26.0  48000   90       0.0   \n",
      "4       0       1       0           4  13750  30.0  38500   90       0.0   \n",
      "5       0       1       0           5  12950  32.0  61000   90       0.0   \n",
      "...   ...     ...     ...         ...    ...   ...    ...  ...       ...   \n",
      "1423    0       0       1        1423   7950  80.0  35821   86       0.0   \n",
      "1424    0       0       1        1424   7750  73.0  34717   86       0.0   \n",
      "1429    0       0       1        1429   8950  78.0  24000   86       1.0   \n",
      "1430    0       0       1        1430   8450  80.0  23000   86       0.0   \n",
      "1435    0       0       1        1435   6950  76.0      1  110       0.0   \n",
      "\n",
      "      Automatic    CC  Doors  Weight  \n",
      "0             0  2000  three    1165  \n",
      "1             0  2000      3    1165  \n",
      "3             0  2000      3    1165  \n",
      "4             0  2000      3    1170  \n",
      "5             0  2000      3    1170  \n",
      "...         ...   ...    ...     ...  \n",
      "1423          1  1300      3    1015  \n",
      "1424          0  1300      3    1015  \n",
      "1429          1  1300      5    1065  \n",
      "1430          0  1300      3    1015  \n",
      "1435          0  1600      5    1114  \n",
      "\n",
      "[1096 rows x 13 columns]\n"
     ]
    }
   ],
   "source": [
    "# Step 4b: Use dummy variables from pandas library\n",
    "#          to create one column for each country\n",
    "\n",
    "dummy = pd.get_dummies(datasets['FuelType'])\n",
    "print(\"\\n\\nDummy :\\n\",dummy)\n",
    "datasets = datasets.drop(['FuelType'],axis=1)\n",
    "datasets = pd.concat([dummy,datasets],axis=1)\n",
    "print(\"\\n\\nFinal Data :\\n\",datasets)"
   ]
  },
  {
   "cell_type": "code",
   "execution_count": null,
   "metadata": {},
   "outputs": [],
   "source": []
  }
 ],
 "metadata": {
  "colab": {
   "name": "2HandlingCategoricalData.ipynb",
   "provenance": []
  },
  "kernelspec": {
   "display_name": "Python 3",
   "language": "python",
   "name": "python3"
  },
  "language_info": {
   "codemirror_mode": {
    "name": "ipython",
    "version": 3
   },
   "file_extension": ".py",
   "mimetype": "text/x-python",
   "name": "python",
   "nbconvert_exporter": "python",
   "pygments_lexer": "ipython3",
   "version": "3.7.8"
  }
 },
 "nbformat": 4,
 "nbformat_minor": 1
}
