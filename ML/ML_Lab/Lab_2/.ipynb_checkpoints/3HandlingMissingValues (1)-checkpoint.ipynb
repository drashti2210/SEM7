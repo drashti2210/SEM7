{
 "cells": [
  {
   "cell_type": "markdown",
   "metadata": {
    "colab_type": "text",
    "id": "FsA-4SSacTLa"
   },
   "source": [
    "Steps for Handling the missing value\n",
    "\n",
    "1. Import Libraries\n",
    "2. Load data\n",
    "3. Seprate Input and Output attributes\n",
    "4. Find the missing values and handle it in either way\n",
    "    a. Removing data\n",
    "    b. Imputation\n"
   ]
  },
  {
   "cell_type": "code",
   "execution_count": 29,
   "metadata": {
    "colab": {
     "base_uri": "https://localhost:8080/",
     "height": 469
    },
    "colab_type": "code",
    "executionInfo": {
     "elapsed": 1453,
     "status": "ok",
     "timestamp": 1594650509420,
     "user": {
      "displayName": "Hariom Pandya",
      "photoUrl": "https://lh3.googleusercontent.com/a-/AOh14Gg8d7lqNqBxgfXVdhraKxXVYdefhGJQ6fR34vxZkw=s64",
      "userId": "14308869011554137018"
     },
     "user_tz": -330
    },
    "id": "g87-5JKocTLg",
    "outputId": "010ed200-a521-4c66-954f-2d1266bc4061"
   },
   "outputs": [
    {
     "name": "stdout",
     "output_type": "stream",
     "text": [
      "\n",
      "Data :\n",
      "       Unnamed: 0  Price   Age     KM FuelType   HP  MetColor  Automatic    CC  \\\n",
      "0              0  13500  23.0  46986   Diesel   90       1.0          0  2000   \n",
      "1              1  13750  23.0  72937   Diesel   90       1.0          0  2000   \n",
      "2              2  13950  24.0  41711   Diesel   90       NaN          0  2000   \n",
      "3              3  14950  26.0  48000   Diesel   90       0.0          0  2000   \n",
      "4              4  13750  30.0  38500   Diesel   90       0.0          0  2000   \n",
      "...          ...    ...   ...    ...      ...  ...       ...        ...   ...   \n",
      "1431        1431   7500   NaN  20544   Petrol   86       1.0          0  1300   \n",
      "1432        1432  10845  72.0     ??   Petrol   86       0.0          0  1300   \n",
      "1433        1433   8500   NaN  17016   Petrol   86       0.0          0  1300   \n",
      "1434        1434   7250  70.0     ??      NaN   86       1.0          0  1300   \n",
      "1435        1435   6950  76.0      1   Petrol  110       0.0          0  1600   \n",
      "\n",
      "      Doors  Weight  \n",
      "0     three    1165  \n",
      "1         3    1165  \n",
      "2         3    1165  \n",
      "3         3    1165  \n",
      "4         3    1170  \n",
      "...     ...     ...  \n",
      "1431      3    1025  \n",
      "1432      3    1015  \n",
      "1433      3    1015  \n",
      "1434      3    1015  \n",
      "1435      5    1114  \n",
      "\n",
      "[1436 rows x 11 columns]\n",
      "\n",
      "Data statistics\n",
      "         Unnamed: 0         Price          Age     MetColor    Automatic  \\\n",
      "count  1436.000000   1436.000000  1336.000000  1286.000000  1436.000000   \n",
      "mean    717.500000  10730.824513    55.672156     0.674961     0.055710   \n",
      "std     414.681806   3626.964585    18.589804     0.468572     0.229441   \n",
      "min       0.000000   4350.000000     1.000000     0.000000     0.000000   \n",
      "25%     358.750000   8450.000000    43.000000     0.000000     0.000000   \n",
      "50%     717.500000   9900.000000    60.000000     1.000000     0.000000   \n",
      "75%    1076.250000  11950.000000    70.000000     1.000000     0.000000   \n",
      "max    1435.000000  32500.000000    80.000000     1.000000     1.000000   \n",
      "\n",
      "                CC      Weight  \n",
      "count  1436.000000  1436.00000  \n",
      "mean   1566.827994  1072.45961  \n",
      "std     187.182436    52.64112  \n",
      "min    1300.000000  1000.00000  \n",
      "25%    1400.000000  1040.00000  \n",
      "50%    1600.000000  1070.00000  \n",
      "75%    1600.000000  1085.00000  \n",
      "max    2000.000000  1615.00000  \n"
     ]
    }
   ],
   "source": [
    "# Step 1: Import Libraries\n",
    "\n",
    "import numpy as np \n",
    "import pandas as pd\n",
    "from sklearn.impute import SimpleImputer \n",
    "\n",
    "# Step 2: Load Data\n",
    "        \n",
    "datasets = pd.read_csv('Exercise-CarData.csv') \n",
    "print(\"\\nData :\\n\",datasets)\n",
    "print(\"\\nData statistics\\n\",datasets.describe())"
   ]
  },
  {
   "cell_type": "code",
   "execution_count": 32,
   "metadata": {},
   "outputs": [
    {
     "name": "stdout",
     "output_type": "stream",
     "text": [
      "   Unnamed: 0  Price   Age     KM FuelType   HP  MetColor  Automatic    CC  \\\n",
      "0           0  13500  23.0  46986   Diesel   90       1.0          0  2000   \n",
      "1           1  13750  23.0  72937   Diesel   90       1.0          0  2000   \n",
      "2           2  13950  24.0  41711   Diesel   90       NaN          0  2000   \n",
      "3           3  14950  26.0  48000   Diesel   90       0.0          0  2000   \n",
      "4           4  13750  30.0  38500   Diesel   90       0.0          0  2000   \n",
      "5           5  12950  32.0  61000   Diesel   90       0.0          0  2000   \n",
      "6           6  16900  27.0    NaN   Diesel  NaN       NaN          0  2000   \n",
      "7           7  18600  30.0  75889      NaN   90       1.0          0  2000   \n",
      "8           8  21500  27.0  19700   Petrol  192       0.0          0  1800   \n",
      "9           9  12950  23.0  71138   Diesel  NaN       NaN          0  1900   \n",
      "\n",
      "   Doors  Weight  \n",
      "0  three    1165  \n",
      "1      3    1165  \n",
      "2      3    1165  \n",
      "3      3    1165  \n",
      "4      3    1170  \n",
      "5      3    1170  \n",
      "6      3    1245  \n",
      "7      3    1245  \n",
      "8      3    1185  \n",
      "9      3    1105  \n"
     ]
    }
   ],
   "source": [
    "datasets=datasets.replace('??',np.nan)\n",
    "datasets=datasets.replace('????',np.nan)\n",
    "print(datasets.head(10))\n"
   ]
  },
  {
   "cell_type": "code",
   "execution_count": 33,
   "metadata": {
    "colab": {
     "base_uri": "https://localhost:8080/",
     "height": 347
    },
    "colab_type": "code",
    "executionInfo": {
     "elapsed": 2140,
     "status": "ok",
     "timestamp": 1594650510136,
     "user": {
      "displayName": "Hariom Pandya",
      "photoUrl": "https://lh3.googleusercontent.com/a-/AOh14Gg8d7lqNqBxgfXVdhraKxXVYdefhGJQ6fR34vxZkw=s64",
      "userId": "14308869011554137018"
     },
     "user_tz": -330
    },
    "id": "-olzGfOycTL_",
    "outputId": "f5cc92fd-b339-4948-a57b-b97db14d24da"
   },
   "outputs": [
    {
     "name": "stdout",
     "output_type": "stream",
     "text": [
      "\n",
      "\n",
      "Input : \n",
      " [[0 13500 23.0 ... 0 2000 'three']\n",
      " [1 13750 23.0 ... 0 2000 '3']\n",
      " [2 13950 24.0 ... 0 2000 '3']\n",
      " ...\n",
      " [1433 8500 nan ... 0 1300 '3']\n",
      " [1434 7250 70.0 ... 0 1300 '3']\n",
      " [1435 6950 76.0 ... 0 1600 '5']]\n",
      "\n",
      "\n",
      "Output: \n",
      " [1165 1165 1165 ... 1015 1015 1114]\n"
     ]
    }
   ],
   "source": [
    "# Step 3: Seprate Input and Output attributes\n",
    "# All rows, all columns except last \n",
    "X = datasets.iloc[:, :-1].values \n",
    "  \n",
    "# Only last column  \n",
    "Y = datasets.iloc[:, -1].values \n",
    "\n",
    "print(\"\\n\\nInput : \\n\", X) \n",
    "print(\"\\n\\nOutput: \\n\", Y) "
   ]
  },
  {
   "cell_type": "code",
   "execution_count": 51,
   "metadata": {
    "colab": {
     "base_uri": "https://localhost:8080/",
     "height": 243
    },
    "colab_type": "code",
    "executionInfo": {
     "elapsed": 2128,
     "status": "ok",
     "timestamp": 1594650510142,
     "user": {
      "displayName": "Hariom Pandya",
      "photoUrl": "https://lh3.googleusercontent.com/a-/AOh14Gg8d7lqNqBxgfXVdhraKxXVYdefhGJQ6fR34vxZkw=s64",
      "userId": "14308869011554137018"
     },
     "user_tz": -330
    },
    "id": "vdC-3fKvcTMa",
    "outputId": "54a378f0-94c9-415b-afc5-6ba41590b23f"
   },
   "outputs": [
    {
     "name": "stdout",
     "output_type": "stream",
     "text": [
      "\n",
      "New Data :       Unnamed: 0  Price   Age     KM FuelType   HP  MetColor  Automatic    CC  \\\n",
      "0              0  13500  23.0  46986   Diesel   90       1.0          0  2000   \n",
      "1              1  13750  23.0  72937   Diesel   90       1.0          0  2000   \n",
      "3              3  14950  26.0  48000   Diesel   90       0.0          0  2000   \n",
      "4              4  13750  30.0  38500   Diesel   90       0.0          0  2000   \n",
      "5              5  12950  32.0  61000   Diesel   90       0.0          0  2000   \n",
      "...          ...    ...   ...    ...      ...  ...       ...        ...   ...   \n",
      "1423        1423   7950  80.0  35821   Petrol   86       0.0          1  1300   \n",
      "1424        1424   7750  73.0  34717   Petrol   86       0.0          0  1300   \n",
      "1429        1429   8950  78.0  24000   Petrol   86       1.0          1  1300   \n",
      "1430        1430   8450  80.0  23000   Petrol   86       0.0          0  1300   \n",
      "1435        1435   6950  76.0      1   Petrol  110       0.0          0  1600   \n",
      "\n",
      "      Doors  Weight  \n",
      "0     three    1165  \n",
      "1         3    1165  \n",
      "3         3    1165  \n",
      "4         3    1170  \n",
      "5         3    1170  \n",
      "...     ...     ...  \n",
      "1423      3    1015  \n",
      "1424      3    1015  \n",
      "1429      5    1065  \n",
      "1430      3    1015  \n",
      "1435      5    1114  \n",
      "\n",
      "[1096 rows x 11 columns]\n"
     ]
    }
   ],
   "source": [
    "# Step 4: Find the missing values and handle it in either way\n",
    "\n",
    "# 4a. Removing the row with all null values\n",
    "\n",
    "datasets.dropna(inplace=True)\n",
    "print(\"\\nNew Data :\",datasets)\n"
   ]
  },
  {
   "cell_type": "code",
   "execution_count": 56,
   "metadata": {},
   "outputs": [],
   "source": [
    "datasets=datasets._get_numeric_data()\n"
   ]
  },
  {
   "cell_type": "code",
   "execution_count": 62,
   "metadata": {
    "colab": {
     "base_uri": "https://localhost:8080/",
     "height": 278
    },
    "colab_type": "code",
    "executionInfo": {
     "elapsed": 2113,
     "status": "ok",
     "timestamp": 1594650510145,
     "user": {
      "displayName": "Hariom Pandya",
      "photoUrl": "https://lh3.googleusercontent.com/a-/AOh14Gg8d7lqNqBxgfXVdhraKxXVYdefhGJQ6fR34vxZkw=s64",
      "userId": "14308869011554137018"
     },
     "user_tz": -330
    },
    "id": "NEvm1o4acTMv",
    "outputId": "0bc9667c-9794-4d0f-a214-becc2e466de0"
   },
   "outputs": [
    {
     "name": "stdout",
     "output_type": "stream",
     "text": [
      "[[0.000e+00 1.350e+04 2.300e+01 1.000e+00 0.000e+00 2.000e+03]\n",
      " [1.000e+00 1.375e+04 2.300e+01 1.000e+00 0.000e+00 2.000e+03]\n",
      " [3.000e+00 1.495e+04 2.600e+01 0.000e+00 0.000e+00 2.000e+03]\n",
      " ...\n",
      " [1.429e+03 8.950e+03 7.800e+01 1.000e+00 1.000e+00 1.300e+03]\n",
      " [1.430e+03 8.450e+03 8.000e+01 0.000e+00 0.000e+00 1.300e+03]\n",
      " [1.435e+03 6.950e+03 7.600e+01 0.000e+00 0.000e+00 1.600e+03]]\n",
      "[1165 1165 1165 ... 1065 1015 1114]\n"
     ]
    }
   ],
   "source": [
    "# 4b. Imputation (Replacing null values with mean value of that attribute)\n",
    "# All rows, all columns except last \n",
    "new_X = datasets.iloc[:, :-1].values \n",
    "  \n",
    "# Only last column  \n",
    "new_Y = datasets.iloc[:, -1].values \n",
    "print(new_X)\n",
    "print(new_Y)\n"
   ]
  },
  {
   "cell_type": "code",
   "execution_count": 65,
   "metadata": {},
   "outputs": [
    {
     "name": "stdout",
     "output_type": "stream",
     "text": [
      "SimpleImputer(add_indicator=False, copy=True, fill_value=None,\n",
      "              missing_values=nan, strategy='mean', verbose=0)\n"
     ]
    }
   ],
   "source": [
    "\n",
    "# Using Imputer function to replace NaN values with mean of that parameter value \n",
    "imputer = SimpleImputer(missing_values = np.nan,strategy = \"mean\")\n",
    "\n",
    "# Fitting the data, function learns the stats \n",
    "imputer = imputer.fit(new_X[:, 1:11]) \n",
    "print(imputer)"
   ]
  },
  {
   "cell_type": "code",
   "execution_count": 67,
   "metadata": {
    "colab": {},
    "colab_type": "code",
    "executionInfo": {
     "elapsed": 2108,
     "status": "ok",
     "timestamp": 1594650510148,
     "user": {
      "displayName": "Hariom Pandya",
      "photoUrl": "https://lh3.googleusercontent.com/a-/AOh14Gg8d7lqNqBxgfXVdhraKxXVYdefhGJQ6fR34vxZkw=s64",
      "userId": "14308869011554137018"
     },
     "user_tz": -330
    },
    "id": "jyIjytp5cTM_"
   },
   "outputs": [
    {
     "name": "stdout",
     "output_type": "stream",
     "text": [
      "\n",
      "\n",
      "New Input with Mean Value for NaN : \n",
      "\n",
      " [[0.000e+00 1.350e+04 2.300e+01 1.000e+00 0.000e+00 2.000e+03]\n",
      " [1.000e+00 1.375e+04 2.300e+01 1.000e+00 0.000e+00 2.000e+03]\n",
      " [3.000e+00 1.495e+04 2.600e+01 0.000e+00 0.000e+00 2.000e+03]\n",
      " ...\n",
      " [1.429e+03 8.950e+03 7.800e+01 1.000e+00 1.000e+00 1.300e+03]\n",
      " [1.430e+03 8.450e+03 8.000e+01 0.000e+00 0.000e+00 1.300e+03]\n",
      " [1.435e+03 6.950e+03 7.600e+01 0.000e+00 0.000e+00 1.600e+03]]\n"
     ]
    }
   ],
   "source": [
    "\n",
    "# fit_transform() will execute those stats on the input ie. X[:, 1:3] \n",
    "new_X[:, 1:6] = imputer.transform(new_X[:, 1:6]) \n",
    "  \n",
    "# filling the missing value with mean \n",
    "print(\"\\n\\nNew Input with Mean Value for NaN : \\n\\n\", new_X) \n",
    "\n"
   ]
  }
 ],
 "metadata": {
  "colab": {
   "name": "3HandlingMissingValues.ipynb",
   "provenance": []
  },
  "kernelspec": {
   "display_name": "Python 3",
   "language": "python",
   "name": "python3"
  },
  "language_info": {
   "codemirror_mode": {
    "name": "ipython",
    "version": 3
   },
   "file_extension": ".py",
   "mimetype": "text/x-python",
   "name": "python",
   "nbconvert_exporter": "python",
   "pygments_lexer": "ipython3",
   "version": "3.7.8"
  }
 },
 "nbformat": 4,
 "nbformat_minor": 1
}
